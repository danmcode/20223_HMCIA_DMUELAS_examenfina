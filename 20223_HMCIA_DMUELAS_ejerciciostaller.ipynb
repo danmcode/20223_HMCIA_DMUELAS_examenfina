{
  "nbformat": 4,
  "nbformat_minor": 0,
  "metadata": {
    "colab": {
      "provenance": [],
      "collapsed_sections": [],
      "include_colab_link": true
    },
    "kernelspec": {
      "name": "python3",
      "display_name": "Python 3"
    },
    "language_info": {
      "name": "python"
    }
  },
  "cells": [
    {
      "cell_type": "markdown",
      "metadata": {
        "id": "view-in-github",
        "colab_type": "text"
      },
      "source": [
        "<a href=\"https://colab.research.google.com/github/danmcode/20223_HMCIA_DMUELAS_examenfina/blob/main/20223_HMCIA_DMUELAS_ejerciciostaller.ipynb\" target=\"_parent\"><img src=\"https://colab.research.google.com/assets/colab-badge.svg\" alt=\"Open In Colab\"/></a>"
      ]
    },
    {
      "cell_type": "markdown",
      "source": [
        "# **Python**"
      ],
      "metadata": {
        "id": "XxJjYQhcKuH0"
      }
    },
    {
      "cell_type": "markdown",
      "source": [
        "1. Cree un programa que pida un número n y luego imprima de la suma de todos los números hasta n. Modifique el programa anterior de modo que solo se consideren múltiplos de tres o cinco en la suma, p. 3, 5, 6, 9, 10, 12, 15 para n=17"
      ],
      "metadata": {
        "id": "6vzT30EvNXdm"
      }
    },
    {
      "cell_type": "code",
      "source": [
        "is_correct = False\n",
        "number = 0\n",
        "\n",
        "# if number is no at number, ask again\n",
        "# the number\n",
        "while(not is_correct):\n",
        "  try:\n",
        "    number = int(input(\"Ingresa un numero entero: \"))\n",
        "    is_correct = True\n",
        "  except ValueError:\n",
        "    print(\"Error, Introducir un numero entero\")\n",
        "\n",
        "sum = 0\n",
        "\n",
        "# iterate until the number\n",
        "for i in range(1, number + 1):\n",
        "\n",
        "  if number % 3 == 0 or number % 5 == 0 :\n",
        "    sum += i\n",
        "  else:\n",
        "    print(\"El número no es un multiplo de 3 o 5 \")\n",
        "\n",
        "#priny the sum of numbers\n",
        "print(\"La suma de los numeros es: \" + str(sum))"
      ],
      "metadata": {
        "id": "Rm5Zmy_eK-Wv",
        "colab": {
          "base_uri": "https://localhost:8080/"
        },
        "outputId": "f0626b09-e9d0-4b0f-8d79-8aa68bf5004c"
      },
      "execution_count": null,
      "outputs": [
        {
          "output_type": "stream",
          "name": "stdout",
          "text": [
            "Ingresa un numero entero: 2\n",
            "El número no es un multiplo de 3 o 5 \n",
            "El número no es un multiplo de 3 o 5 \n",
            "La suma de los numeros es: 0\n"
          ]
        }
      ]
    },
    {
      "cell_type": "markdown",
      "source": [
        "2. Realice un programa que pide un número positivo al usuario y almacena la respuesta en la variable \"numero\". Después comprueba si el número es negativo. Si lo es, el programa avisa que no era eso lo que se había pedido."
      ],
      "metadata": {
        "id": "9xae-j9MNeap"
      }
    },
    {
      "cell_type": "code",
      "source": [
        "is_correct = False\n",
        "number = 0\n",
        "\n",
        "# if number is no at number, ask again\n",
        "# the number\n",
        "while(not is_correct):\n",
        "  try:\n",
        "\n",
        "    # get a number\n",
        "    number = int(input(\"Ingresa un numero entero positivo: \"))\n",
        "\n",
        "    # know if the number is negative\n",
        "    # if is negative gat again the numnber\n",
        "    if number < 0:\n",
        "      print(\"El numero no puede ser negativo\")\n",
        "      is_correct = False\n",
        "      continue\n",
        "\n",
        "    is_correct = True\n",
        "  except ValueError:\n",
        "    #catch the error if NaN\n",
        "    print(\"Error, Introducir un numero entero positivo\")"
      ],
      "metadata": {
        "id": "603_2YCiNsWZ",
        "colab": {
          "base_uri": "https://localhost:8080/"
        },
        "outputId": "2890bae5-a1c2-42c8-aee0-5080940dcff1"
      },
      "execution_count": null,
      "outputs": [
        {
          "name": "stdout",
          "output_type": "stream",
          "text": [
            "Ingresa un numero entero positivo: 3\n"
          ]
        }
      ]
    },
    {
      "cell_type": "markdown",
      "source": [
        "3. Realice un programa que determine si el número entero ingresado por el usuario es par o no."
      ],
      "metadata": {
        "id": "Y_PqWEO7Ntoa"
      }
    },
    {
      "cell_type": "code",
      "source": [
        "is_correct = False\n",
        "number = 0\n",
        "\n",
        "# if number is no at number, ask again\n",
        "# the number\n",
        "while(not is_correct):\n",
        "  try:\n",
        "    # get a number\n",
        "    number = int(input(\"Ingresa un numero entero: \"))\n",
        "    is_correct = True\n",
        "\n",
        "  except ValueError:\n",
        "    #catch the error if NaN\n",
        "    print(\"Error, Introducir un numero entero positivo\")\n",
        "\n",
        "\n",
        "if number % 2 == 0:\n",
        "  print(\"El numero es par\")\n",
        "else:\n",
        "  print(\"El numero no es par\")"
      ],
      "metadata": {
        "id": "UoFQEyLKN0Rz",
        "colab": {
          "base_uri": "https://localhost:8080/"
        },
        "outputId": "2dabbcd2-f8f0-46b5-dacf-d23e8893837a"
      },
      "execution_count": null,
      "outputs": [
        {
          "output_type": "stream",
          "name": "stdout",
          "text": [
            "Ingresa un numero entero: 4\n",
            "El numero es par\n"
          ]
        }
      ]
    },
    {
      "cell_type": "markdown",
      "source": [
        "4. Escriba un programa que le pida al usuario un número n y le dé la posibilidad de elegir entre calcular la suma o calcular el producto de 1,…,n."
      ],
      "metadata": {
        "id": "LxI_P3mpNzYC"
      }
    },
    {
      "cell_type": "code",
      "source": [
        "#Loop boool for show the menu \n",
        "is_correct = False\n",
        "\n",
        "#Input number\n",
        "number = 0\n",
        "calc = 0\n",
        "\n",
        "#Menu options\n",
        "menu_options = '''\n",
        "Seleccione una opcion:\n",
        "\n",
        "1. Sumar\n",
        "2. Producto\n",
        "0. Salir\n",
        "'''\n",
        "\n",
        "#Menu to repeat\n",
        "repeat_menu = '''\n",
        "¿Desea realizar otro calculo?\n",
        "\n",
        "1. Si\n",
        "2. No\n",
        "'''\n",
        "\n",
        "print(\"\"\"\n",
        "*************************************\n",
        "*  Calcular suma o producto 1....n  *\n",
        "*************************************\n",
        "\"\"\")\n",
        "\n",
        "# if number is no at number, ask again\n",
        "# the number\n",
        "while(not is_correct):\n",
        "  try:\n",
        "\n",
        "    # get a number\n",
        "    number = int(input(\"Ingresa el numero entero: \"))\n",
        "\n",
        "    #Print the menu\n",
        "    print(menu_options)\n",
        "\n",
        "    #Select an option\n",
        "    selected_option = int(input(\"Selecciona una opción: \"))\n",
        "\n",
        "    #Calculate\n",
        "    if selected_option == 1:\n",
        "      for i in range(1, number + 1):\n",
        "        calc += i\n",
        "      \n",
        "      print(\"La suma 1..\" + str(number) + \" es: \" + str(calc))\n",
        "    elif selected_option == 2:\n",
        "        for i in range(1, number + 1):\n",
        "          calc *= i\n",
        "        print(\"El producto 1..\" + str(number) + \" es: \" + str(calc))\n",
        "    elif selected_option == 0:\n",
        "      print(\"Programa terminado\")\n",
        "      break\n",
        "    else:\n",
        "      print(\"No has seleccionado una opción valida, programa terminado\")\n",
        "      break\n",
        "    \n",
        "    print(repeat_menu)\n",
        "\n",
        "    selected_option = int(input(\"Selecciona una opción: \"))\n",
        "\n",
        "    if selected_option == 1:\n",
        "      is_correct = False\n",
        "    elif selected_option == 2:\n",
        "      print(\"Programa terminado\")\n",
        "      break\n",
        "      pass\n",
        "    else:\n",
        "      print(\"No has seleccionado una opcion correcta, Fin\")\n",
        "    \n",
        "  except ValueError:\n",
        "    #catch the error if NaN\n",
        "    print(\"Error, No has Introducido un numero\")"
      ],
      "metadata": {
        "id": "0e4hlBTiOHEV",
        "colab": {
          "base_uri": "https://localhost:8080/"
        },
        "outputId": "793cef13-cb54-4689-9454-23cbef1b7eda"
      },
      "execution_count": null,
      "outputs": [
        {
          "output_type": "stream",
          "name": "stdout",
          "text": [
            "\n",
            "*************************************\n",
            "*  Calcular suma o producto 1....n  *\n",
            "*************************************\n",
            "\n",
            "Ingresa el numero entero: 4\n",
            "\n",
            "Seleccione una opcion:\n",
            "\n",
            "1. Sumar\n",
            "2. Producto\n",
            "0. Salir\n",
            "\n",
            "Selecciona una opción: 1\n",
            "La suma 1..4 es: 10\n",
            "\n",
            "¿Desea realizar otro calculo?\n",
            "\n",
            "1. Si\n",
            "2. No\n",
            "\n",
            "Selecciona una opción: 2\n",
            "Programa terminado\n"
          ]
        }
      ]
    },
    {
      "cell_type": "markdown",
      "source": [
        "5. Escriba un programa que pida al usuario un numero positivo una y otra vez hasta que el usuario lo haga correctamente "
      ],
      "metadata": {
        "id": "O_kK5T0SOIFz"
      }
    },
    {
      "cell_type": "code",
      "source": [
        "try:\n",
        "  number = int(input(\"Ingresa un numero entero: \"))\n",
        "\n",
        "  while number < 0:\n",
        "    number = int(input(\"Ingresa un numero entero: \"))\n",
        "\n",
        "  print(\"Felicidades introduciste un numero entero positivo 🥇\")\n",
        "\n",
        "except ValueError:\n",
        "  print(\"El valor ingresado no es correcto, ingresa un numero entero\")"
      ],
      "metadata": {
        "id": "kRxCEtXaOIa5",
        "colab": {
          "base_uri": "https://localhost:8080/"
        },
        "outputId": "2d1cb4fc-b20e-4d43-e0b7-f1eb6521a554"
      },
      "execution_count": null,
      "outputs": [
        {
          "output_type": "stream",
          "name": "stdout",
          "text": [
            "Ingresa un numero entero: 4\n",
            "Felicidades introduciste un numero entero positivo 🥇\n"
          ]
        }
      ]
    },
    {
      "cell_type": "markdown",
      "source": [
        "6. Escriba un programa que imprima una tabla de multiplicar para números hasta el 12"
      ],
      "metadata": {
        "id": "TpNs08mMOIqt"
      }
    },
    {
      "cell_type": "code",
      "source": [
        "is_correct = False\n",
        "iterator = 1\n",
        "calc = 0\n",
        "\n",
        "while(not is_correct):\n",
        "  try:\n",
        "    number = int(input(\"Ingresa un numero entero: \"))\n",
        "\n",
        "    while iterator <= 12:\n",
        "      calc = iterator * number\n",
        "      print( str(number) + \" * \" + str(iterator) + \" = \" + str(calc) )\n",
        "      iterator += 1\n",
        "\n",
        "\n",
        "    is_correct = True\n",
        "  \n",
        "  except ValueError:\n",
        "    print(\"El valor ingresado no es correcto, ingresa un numero entero\")"
      ],
      "metadata": {
        "id": "e_4hf5AxOJc_",
        "colab": {
          "base_uri": "https://localhost:8080/"
        },
        "outputId": "bf297897-4b04-402f-a07c-e520e7ec8f6c"
      },
      "execution_count": null,
      "outputs": [
        {
          "output_type": "stream",
          "name": "stdout",
          "text": [
            "Ingresa un numero entero: 4\n",
            "4 * 1 = 4\n",
            "4 * 2 = 8\n",
            "4 * 3 = 12\n",
            "4 * 4 = 16\n",
            "4 * 5 = 20\n",
            "4 * 6 = 24\n",
            "4 * 7 = 28\n",
            "4 * 8 = 32\n",
            "4 * 9 = 36\n",
            "4 * 10 = 40\n",
            "4 * 11 = 44\n",
            "4 * 12 = 48\n"
          ]
        }
      ]
    },
    {
      "cell_type": "markdown",
      "source": [
        "7. Escriba un programa que imprima todos los números primos hasta un máximo determinado por el usuario"
      ],
      "metadata": {
        "id": "z3iiTxvbOKBq"
      }
    },
    {
      "cell_type": "code",
      "source": [
        "is_correct = False\n",
        "iterator = 1\n",
        "calc = 0\n",
        "prime_numbers = []\n",
        "\n",
        "#Iterative\n",
        "def is_prime(number):\n",
        "    if number <= 2:\n",
        "      return False\n",
        "\n",
        "    for n in range(2, number):\n",
        "        if number % n == 0:\n",
        "            return False\n",
        "    return True\n",
        "\n",
        "#Recursive is prime recursive\n",
        "def is_prime_recursive(number, counter = 2):\n",
        "\n",
        "    if number <= 2:\n",
        "      return False\n",
        "\n",
        "    if counter >= number:\n",
        "        return True\n",
        "    elif number % counter != 0:\n",
        "        return is_prime_recursive(number, counter + 1)\n",
        "    else:\n",
        "        return False\n",
        "\n",
        "\n",
        "\n",
        "while(not is_correct):\n",
        "  try:\n",
        "    number = int(input(\"Ingresa un numero entero: \"))\n",
        "\n",
        "    is_correct = True\n",
        "    \n",
        "    while iterator <= number:\n",
        "      is_prime_number = is_prime_recursive(iterator)\n",
        "      \n",
        "      if is_prime_number == True:\n",
        "        prime_numbers.append(iterator)\n",
        "      \n",
        "      iterator += 1\n",
        "\n",
        "  except ValueError:\n",
        "    print(\"El valor ingresado no es correcto, ingresa un numero entero\")\n",
        "\n",
        "\n",
        "print(\"Numeros primos: \")\n",
        "print(prime_numbers)"
      ],
      "metadata": {
        "id": "dU5Yv9IvOKnh",
        "colab": {
          "base_uri": "https://localhost:8080/"
        },
        "outputId": "e0f591ea-bce1-42cc-8c37-684e22283712"
      },
      "execution_count": null,
      "outputs": [
        {
          "output_type": "stream",
          "name": "stdout",
          "text": [
            "Ingresa un numero entero: 4\n",
            "Numeros primos: \n",
            "[3]\n"
          ]
        }
      ]
    },
    {
      "cell_type": "markdown",
      "source": [
        "8. Escriba un juego de adivinanzas en el que el usuario tenga que adivinar un número secreto. Después de cada conjetura, el programa le dice al usuario si su número era demasiado grande o demasiado pequeño. Al final se debe imprimir el número de intentos necesarios."
      ],
      "metadata": {
        "id": "4L5HK38cOMbq"
      }
    },
    {
      "cell_type": "code",
      "source": [
        "import random\n",
        "\n",
        "def guess_the_number():\n",
        "  attempts = 0\n",
        "  random_number       = random.randint(1, 100)\n",
        "  selected_number     = get_int_input_number(\"Ingresa un numero desde 1 a 100: \")\n",
        "\n",
        "  while selected_number != random_number:\n",
        "\n",
        "    if selected_number < random_number:\n",
        "      attempts += 1\n",
        "      print(\"Busca un numero mas grande 🤷‍♂️ :\")\n",
        "    else:\n",
        "      attempts += 1\n",
        "      print(\"Busca un numero mas pequeño 🤦‍♂️ :\")\n",
        "            \n",
        "    selected_number = get_int_input_number()\n",
        "    \n",
        "  print(\"¡Ganaste con \" + str(attempts) +\" intentos !🥇\")\n",
        "\n",
        "def get_int_input_number(input_message = \"\"):\n",
        "  is_correct = False\n",
        "\n",
        "  while(not is_correct):\n",
        "    try:\n",
        "      number = int(input(input_message))\n",
        "\n",
        "      return number\n",
        "\n",
        "    except ValueError:\n",
        "      print(\"El valor ingresado no es correcto, ingresa un numero entero\")\n",
        "\n",
        "\n",
        "guess_the_number()"
      ],
      "metadata": {
        "id": "RLAgzpcQOM1F",
        "colab": {
          "base_uri": "https://localhost:8080/"
        },
        "outputId": "242e06a4-477e-4b8e-ea3e-8f05b11a0490"
      },
      "execution_count": null,
      "outputs": [
        {
          "output_type": "stream",
          "name": "stdout",
          "text": [
            "Ingresa un numero desde 1 a 100: 50\n",
            "Busca un numero mas grande 🤷‍♂️ :\n",
            "60\n",
            "Busca un numero mas grande 🤷‍♂️ :\n",
            "70\n",
            "Busca un numero mas grande 🤷‍♂️ :\n",
            "80\n",
            "Busca un numero mas pequeño 🤦‍♂️ :\n",
            "72\n",
            "¡Ganaste con 4 intentos !🥇\n"
          ]
        }
      ]
    },
    {
      "cell_type": "markdown",
      "source": [
        "9. Escriba un programa que imprima los próximos 20 años bisiestos."
      ],
      "metadata": {
        "id": "SHD0NDwcONf_"
      }
    },
    {
      "cell_type": "code",
      "source": [
        "current_year = 2022\n",
        "leap_years = []\n",
        "counter = 1\n",
        "leap_year_size = 0\n",
        "\n",
        "\n",
        "def is_leap_year(year):\n",
        "  return not year % 4 and (year % 100 or not year % 400)\n",
        "\n",
        "\n",
        "while leap_year_size < 20:\n",
        "  \n",
        "  if is_leap_year(current_year + counter) != False:\n",
        "    leap_years.append(current_year + counter)\n",
        "  \n",
        "  counter += 1\n",
        "  leap_year_size = len(leap_years)\n",
        "    \n",
        "\n",
        "print(\"Los siguientes 20 Años biciestos desde: \"+ str(current_year) +\" : \")\n",
        "print(leap_years)"
      ],
      "metadata": {
        "id": "K1A7cHAKON1l",
        "colab": {
          "base_uri": "https://localhost:8080/"
        },
        "outputId": "eefcccd7-1953-441e-8cf5-495bdb7e003a"
      },
      "execution_count": null,
      "outputs": [
        {
          "output_type": "stream",
          "name": "stdout",
          "text": [
            "Los siguientes 20 Años biciestos desde: 2022 : \n",
            "[2024, 2028, 2032, 2036, 2040, 2044, 2048, 2052, 2056, 2060, 2064, 2068, 2072, 2076, 2080, 2084, 2088, 2092, 2096, 2104]\n"
          ]
        }
      ]
    },
    {
      "cell_type": "markdown",
      "source": [
        "10. Completa la siguiente función para que, dado un número de cédula, se devuelva una letra. El resultado será un número entero y la letra debe ser una cadena de caracteres que contendrá una única letra en mayúsculas. Esta letra se obtiene calculando el resto de la cédula entre 23 y a partir de ese valor asignarle una letra de la siguiente tabla"
      ],
      "metadata": {
        "id": "HaUgREplOOTT"
      }
    },
    {
      "cell_type": "code",
      "source": [
        "def ejercicio_1(dni):\n",
        "  letra = \"\"\n",
        "\n",
        "  letter_table = [\n",
        "      \"T\",\n",
        "      \"R\",\n",
        "      \"W\",\n",
        "      \"A\",\n",
        "      \"G\",\n",
        "      \"M\",\n",
        "      \"Y\",\n",
        "      \"P\",\n",
        "      \"D\",\n",
        "      \"X\",\n",
        "      \"B\",\n",
        "      \"N\",\n",
        "      \"J\",\n",
        "      \"Z\",\n",
        "      \"S\",\n",
        "      \"Q\",\n",
        "      \"V\",\n",
        "      \"H\",\n",
        "      \"L\",\n",
        "      \"C\",\n",
        "      \"K\",\n",
        "      \"E\"\n",
        "  ]\n",
        "\n",
        "  letra = letter_table[dni % 23]\n",
        "\n",
        "  return letra\n",
        "\n",
        "def get_int_input_number(input_message = \"\"):\n",
        "  is_correct = False\n",
        "\n",
        "  while(not is_correct):\n",
        "    try:\n",
        "      number = int(input(input_message))\n",
        "\n",
        "      return number\n",
        "\n",
        "    except ValueError:\n",
        "      print(\"El valor ingresado no es correcto, ingresa un numero entero\")\n",
        "\n",
        "dni = get_int_input_number(\"Ingresa tu numero de identificación: \")\n",
        "\n",
        "letra = ejercicio_1(dni)\n",
        "\n",
        "print(\"La letra de tu DNI es: \")\n",
        "print(letra)"
      ],
      "metadata": {
        "id": "RVlrxJB2OO1K",
        "colab": {
          "base_uri": "https://localhost:8080/"
        },
        "outputId": "cdf23c8b-ad05-42a2-b4f1-523083f36a16"
      },
      "execution_count": null,
      "outputs": [
        {
          "output_type": "stream",
          "name": "stdout",
          "text": [
            "Ingresa tu numero de identificación: 1144097956\n",
            "La letra de tu DNI es: \n",
            "X\n"
          ]
        }
      ]
    },
    {
      "cell_type": "markdown",
      "source": [
        "11. Completa la siguiente función para que dado el precio de un producto, se calcule y se devuelva el precio total que debe pagar el cliente, es decir, incluyendo el IVA (19% sobre el precio del producto). El precio total deberá ser únicamente el valor del precio, es decir, no debe contener el símbolo de la moneda. Redondee la salida al segundo decimal en caso necesario."
      ],
      "metadata": {
        "id": "1TkiKRUtOtfi"
      }
    },
    {
      "cell_type": "code",
      "source": [
        "def get_float_input_number(input_message = \"\"):\n",
        "  is_correct = False\n",
        "\n",
        "  while(not is_correct):\n",
        "    try:\n",
        "      number = float(input(input_message))\n",
        "      is_correct = True \n",
        "      return number\n",
        "\n",
        "    except ValueError:\n",
        "      print(\"El valor ingresado no es correcto, ingresa un numero entero\")\n",
        "\n",
        "\n",
        "def ejercicio_2(price):\n",
        "  iva = 0.19\n",
        "  precio_total = price + (price * iva);\n",
        "  return precio_total\n",
        "\n",
        "product_iva = ejercicio_2(get_int_input_number(\"Ingrese el precio del producto: \"))\n",
        "\n",
        "print(\"El precio del prodcuto es: \", product_iva)\n"
      ],
      "metadata": {
        "id": "BfBg3Nn6OtHT",
        "colab": {
          "base_uri": "https://localhost:8080/"
        },
        "outputId": "b552adac-3aa0-4afc-ca9d-bf6b9897eb7e"
      },
      "execution_count": null,
      "outputs": [
        {
          "output_type": "stream",
          "name": "stdout",
          "text": [
            "Ingrese el precio del producto: 123233\n",
            "El precio del prodcuto es:  146647.27\n"
          ]
        }
      ]
    },
    {
      "cell_type": "markdown",
      "source": [
        "12. Completa la siguiente función para que, dado el diámetro de una circunferencia, se calcule el área del círculo que contiene dicha circunferencia. Como valor de PI se usará 3.1415."
      ],
      "metadata": {
        "id": "Qr9HH3lxOuEG"
      }
    },
    {
      "cell_type": "code",
      "source": [
        "def ejercicio_3(diametro):\n",
        "  pi = 3.1415\n",
        "  return pi * ( diametro ** 2 / 4 ) \n",
        "\n",
        "diametro = get_int_input_number(\"Ingresa el diametro de la circunferencia: \")\n",
        "\n",
        "area = ejercicio_3(diametro)\n",
        "\n",
        "print(\"El área de la circunferencia es: \", area)"
      ],
      "metadata": {
        "id": "zoUQU8ezOuaQ",
        "colab": {
          "base_uri": "https://localhost:8080/"
        },
        "outputId": "2351a99d-50b4-4e10-b11c-54e99da10c49"
      },
      "execution_count": null,
      "outputs": [
        {
          "output_type": "stream",
          "name": "stdout",
          "text": [
            "Ingresa el diametro de la circunferencia: 123\n",
            "El área de la circunferencia es:  11881.938375000002\n"
          ]
        }
      ]
    },
    {
      "cell_type": "markdown",
      "source": [
        "13. Completar la función para que dados dos números enteros n y m, se calcule el cociente y el resto de hacer la división entera entre n y m."
      ],
      "metadata": {
        "id": "xuq4IHD8OuyD"
      }
    },
    {
      "cell_type": "code",
      "source": [
        "def ejercicio_4(n, m):\n",
        "  cociente = n / m\n",
        "  resto = n % m\n",
        "  return cociente, resto\n",
        "\n",
        "n = get_int_input_number(\"Ingrese el número n: \")\n",
        "m = get_int_input_number(\"Ingrese el número m: \")\n",
        "\n",
        "cociente, resto = ejercicio_4(n,m)\n",
        "\n",
        "print(\"cociente: \", cociente, \"resto: \", resto)\n"
      ],
      "metadata": {
        "id": "7gi75lnnOvMK",
        "colab": {
          "base_uri": "https://localhost:8080/"
        },
        "outputId": "1ce98976-83fd-4186-a9cf-6f359d2e0413"
      },
      "execution_count": null,
      "outputs": [
        {
          "output_type": "stream",
          "name": "stdout",
          "text": [
            "Ingrese el número n: 3\n",
            "Ingrese el número m: 4\n",
            "cociente:  0.75 resto:  3\n"
          ]
        }
      ]
    },
    {
      "cell_type": "markdown",
      "source": [
        "14. Completar la función para que dado el número de unidades que ha comprado un usuario de 2 productos diferentes, devolver el peso total del paquete para enviar su compra por mensajería. El peso de cada unidad del producto1 es de 147 unidades y el peso de cada unidad del producto2 es de 2400 unidades. La función debe devolver únicamente el peso total."
      ],
      "metadata": {
        "id": "4jOjgzWyOvkj"
      }
    },
    {
      "cell_type": "code",
      "source": [
        "def ejercicio_5(producto1, producto2):\n",
        "\n",
        "  producto1_w = 147\n",
        "  producto2_w = 2400\n",
        "\n",
        "  peso_total = producto1 * producto1_w + producto2 * producto2_w\n",
        "\n",
        "  return peso_total\n",
        "\n",
        "producto1 = get_int_input_number(\"Ingrese la cantidad del producto 1: \")\n",
        "producto2 = get_int_input_number(\"Ingrese la cantidad del producto 2: \")\n",
        "\n",
        "peso_total = ejercicio_5(producto1, producto2)\n",
        "\n",
        "print(\"El peso total de los productos es: \")"
      ],
      "metadata": {
        "id": "1iIdbdrIOv4e",
        "colab": {
          "base_uri": "https://localhost:8080/"
        },
        "outputId": "4d789abe-c442-40f7-c9fd-24ff35066692"
      },
      "execution_count": null,
      "outputs": [
        {
          "output_type": "stream",
          "name": "stdout",
          "text": [
            "Ingrese la cantidad del producto 1: 123\n",
            "Ingrese la cantidad del producto 2: 3224\n",
            "El peso total de los productos es: \n"
          ]
        }
      ]
    },
    {
      "cell_type": "markdown",
      "source": [
        "15. Escribe una función llamada ejercicio1 que genere una lista con 15 valores enteros aleatorios que vayan de 1 a 100. La función debe devolver la lista con todos los valores."
      ],
      "metadata": {
        "id": "CMX3q_xYOwPu"
      }
    },
    {
      "cell_type": "code",
      "source": [
        "import random\n",
        "\n",
        "def ejercicio_1():\n",
        "  ramdom_list = []\n",
        "\n",
        "  for i in  range(15):\n",
        "    x = random.randint(1,100)\n",
        "    ramdom_list.append(x)\n",
        "    i=+1\n",
        "    \n",
        "  return ramdom_list\n",
        "\n",
        "ejercicio_1()"
      ],
      "metadata": {
        "id": "9lMUYdgjOwjD",
        "colab": {
          "base_uri": "https://localhost:8080/"
        },
        "outputId": "ca65645d-9590-4c66-95d4-a90e15e729a4"
      },
      "execution_count": null,
      "outputs": [
        {
          "output_type": "execute_result",
          "data": {
            "text/plain": [
              "[68, 4, 72, 80, 32, 88, 29, 66, 82, 8, 81, 33, 24, 2, 87]"
            ]
          },
          "metadata": {},
          "execution_count": 16
        }
      ]
    },
    {
      "cell_type": "markdown",
      "source": [
        "16. Cree una serie de datos que contenga los números de teléfono de 5 compañeros"
      ],
      "metadata": {
        "id": "fHj61Z_COw7j"
      }
    },
    {
      "cell_type": "code",
      "source": [
        "import pandas as pd\n",
        "import numpy as np\n",
        "\n",
        "phone_numbers = np.array([\n",
        "    '3108903571',\n",
        "    '3167585680',\n",
        "    '3054353403',\n",
        "    '3176538730',\n",
        "    '3168906753'\n",
        "])\n",
        "\n",
        "phone_numbers_serie = pd.Series(phone_numbers)\n",
        "print(phone_numbers_serie)"
      ],
      "metadata": {
        "id": "GPb7vSsEOxNp",
        "colab": {
          "base_uri": "https://localhost:8080/"
        },
        "outputId": "afae31bc-18cc-4552-be3f-9ceb012da7b0"
      },
      "execution_count": null,
      "outputs": [
        {
          "output_type": "stream",
          "name": "stdout",
          "text": [
            "0    3108903571\n",
            "1    3167585680\n",
            "2    3054353403\n",
            "3    3176538730\n",
            "4    3168906753\n",
            "dtype: object\n"
          ]
        }
      ]
    },
    {
      "cell_type": "markdown",
      "source": [
        "17. Cree una serie de datos que contenga las direcciones de correo de 5 compañeros"
      ],
      "metadata": {
        "id": "czvQdhQUOxfh"
      }
    },
    {
      "cell_type": "code",
      "source": [
        "emails = np.array([\n",
        "    'daniel.muelas@uao.edu.co',\n",
        "    'geiner.rivera@uao.edu.co',\n",
        "    'andres_felipe.montes@uao.edu.co',\n",
        "    'joyd.lasprilla@uao.edu.co',\n",
        "    'julian.vega@uao.edu.co'\n",
        "])\n",
        "\n",
        "emails_serie = pd.Series(emails)\n",
        "print(emails_serie)"
      ],
      "metadata": {
        "id": "d3uda3MJOx8t",
        "colab": {
          "base_uri": "https://localhost:8080/"
        },
        "outputId": "a251cea9-17b9-4d82-8e3d-4fc06cabb44e"
      },
      "execution_count": null,
      "outputs": [
        {
          "output_type": "stream",
          "name": "stdout",
          "text": [
            "0           daniel.muelas@uao.edu.co\n",
            "1           geiner.rivera@uao.edu.co\n",
            "2    andres_felipe.montes@uao.edu.co\n",
            "3          joyd.lasprilla@uao.edu.co\n",
            "4             julian.vega@uao.edu.co\n",
            "dtype: object\n"
          ]
        }
      ]
    },
    {
      "cell_type": "markdown",
      "source": [
        "18. Cree una serie de datos que contenga la carrera de 5 compañeros"
      ],
      "metadata": {
        "id": "aGhQ2yiEOyaI"
      }
    },
    {
      "cell_type": "code",
      "source": [
        "careers = np.array([\n",
        "    'Ingenieria Informatica',\n",
        "    'Ingenieria Electrica',\n",
        "    'Ingenieria Mecatronica',\n",
        "    'Imgenieria Biomedica',\n",
        "    'Ingenieria Multimedia'\n",
        "])\n",
        "\n",
        "careers_serie = pd.Series(careers)\n",
        "print(careers_serie)"
      ],
      "metadata": {
        "id": "spO7SiGfOyw4",
        "colab": {
          "base_uri": "https://localhost:8080/"
        },
        "outputId": "ce70eb8c-4809-4fd9-befe-6640aa3c4e4e"
      },
      "execution_count": null,
      "outputs": [
        {
          "output_type": "stream",
          "name": "stdout",
          "text": [
            "0    Ingenieria Informatica\n",
            "1      Ingenieria Electrica\n",
            "2    Ingenieria Mecatronica\n",
            "3      Imgenieria Biomedica\n",
            "4     Ingenieria Multimedia\n",
            "dtype: object\n"
          ]
        }
      ]
    },
    {
      "cell_type": "markdown",
      "source": [
        "19. Cree un dataframe a partir de las series que acaba de crear"
      ],
      "metadata": {
        "id": "atDjYIA7OzUh"
      }
    },
    {
      "cell_type": "code",
      "source": [
        "students_info = pd.concat([\n",
        "    phone_numbers_serie,\n",
        "    emails_serie,\n",
        "    careers_serie\n",
        "], axis =  1)\n",
        "\n",
        "students_info.columns = [\n",
        "  \"phone_number\",\n",
        "  \"email\",\n",
        "  \"careers\"\n",
        "]\n",
        "\n",
        "students_info.head()"
      ],
      "metadata": {
        "id": "d3qjVpHrOzrN",
        "colab": {
          "base_uri": "https://localhost:8080/",
          "height": 206
        },
        "outputId": "93196415-6c99-4aee-94d1-31bb59484086"
      },
      "execution_count": null,
      "outputs": [
        {
          "output_type": "execute_result",
          "data": {
            "text/plain": [
              "  phone_number                            email                 careers\n",
              "0   3108903571         daniel.muelas@uao.edu.co  Ingenieria Informatica\n",
              "1   3167585680         geiner.rivera@uao.edu.co    Ingenieria Electrica\n",
              "2   3054353403  andres_felipe.montes@uao.edu.co  Ingenieria Mecatronica\n",
              "3   3176538730        joyd.lasprilla@uao.edu.co    Imgenieria Biomedica\n",
              "4   3168906753           julian.vega@uao.edu.co   Ingenieria Multimedia"
            ],
            "text/html": [
              "\n",
              "  <div id=\"df-bbf2927b-072a-4b8e-9329-41c59000878f\">\n",
              "    <div class=\"colab-df-container\">\n",
              "      <div>\n",
              "<style scoped>\n",
              "    .dataframe tbody tr th:only-of-type {\n",
              "        vertical-align: middle;\n",
              "    }\n",
              "\n",
              "    .dataframe tbody tr th {\n",
              "        vertical-align: top;\n",
              "    }\n",
              "\n",
              "    .dataframe thead th {\n",
              "        text-align: right;\n",
              "    }\n",
              "</style>\n",
              "<table border=\"1\" class=\"dataframe\">\n",
              "  <thead>\n",
              "    <tr style=\"text-align: right;\">\n",
              "      <th></th>\n",
              "      <th>phone_number</th>\n",
              "      <th>email</th>\n",
              "      <th>careers</th>\n",
              "    </tr>\n",
              "  </thead>\n",
              "  <tbody>\n",
              "    <tr>\n",
              "      <th>0</th>\n",
              "      <td>3108903571</td>\n",
              "      <td>daniel.muelas@uao.edu.co</td>\n",
              "      <td>Ingenieria Informatica</td>\n",
              "    </tr>\n",
              "    <tr>\n",
              "      <th>1</th>\n",
              "      <td>3167585680</td>\n",
              "      <td>geiner.rivera@uao.edu.co</td>\n",
              "      <td>Ingenieria Electrica</td>\n",
              "    </tr>\n",
              "    <tr>\n",
              "      <th>2</th>\n",
              "      <td>3054353403</td>\n",
              "      <td>andres_felipe.montes@uao.edu.co</td>\n",
              "      <td>Ingenieria Mecatronica</td>\n",
              "    </tr>\n",
              "    <tr>\n",
              "      <th>3</th>\n",
              "      <td>3176538730</td>\n",
              "      <td>joyd.lasprilla@uao.edu.co</td>\n",
              "      <td>Imgenieria Biomedica</td>\n",
              "    </tr>\n",
              "    <tr>\n",
              "      <th>4</th>\n",
              "      <td>3168906753</td>\n",
              "      <td>julian.vega@uao.edu.co</td>\n",
              "      <td>Ingenieria Multimedia</td>\n",
              "    </tr>\n",
              "  </tbody>\n",
              "</table>\n",
              "</div>\n",
              "      <button class=\"colab-df-convert\" onclick=\"convertToInteractive('df-bbf2927b-072a-4b8e-9329-41c59000878f')\"\n",
              "              title=\"Convert this dataframe to an interactive table.\"\n",
              "              style=\"display:none;\">\n",
              "        \n",
              "  <svg xmlns=\"http://www.w3.org/2000/svg\" height=\"24px\"viewBox=\"0 0 24 24\"\n",
              "       width=\"24px\">\n",
              "    <path d=\"M0 0h24v24H0V0z\" fill=\"none\"/>\n",
              "    <path d=\"M18.56 5.44l.94 2.06.94-2.06 2.06-.94-2.06-.94-.94-2.06-.94 2.06-2.06.94zm-11 1L8.5 8.5l.94-2.06 2.06-.94-2.06-.94L8.5 2.5l-.94 2.06-2.06.94zm10 10l.94 2.06.94-2.06 2.06-.94-2.06-.94-.94-2.06-.94 2.06-2.06.94z\"/><path d=\"M17.41 7.96l-1.37-1.37c-.4-.4-.92-.59-1.43-.59-.52 0-1.04.2-1.43.59L10.3 9.45l-7.72 7.72c-.78.78-.78 2.05 0 2.83L4 21.41c.39.39.9.59 1.41.59.51 0 1.02-.2 1.41-.59l7.78-7.78 2.81-2.81c.8-.78.8-2.07 0-2.86zM5.41 20L4 18.59l7.72-7.72 1.47 1.35L5.41 20z\"/>\n",
              "  </svg>\n",
              "      </button>\n",
              "      \n",
              "  <style>\n",
              "    .colab-df-container {\n",
              "      display:flex;\n",
              "      flex-wrap:wrap;\n",
              "      gap: 12px;\n",
              "    }\n",
              "\n",
              "    .colab-df-convert {\n",
              "      background-color: #E8F0FE;\n",
              "      border: none;\n",
              "      border-radius: 50%;\n",
              "      cursor: pointer;\n",
              "      display: none;\n",
              "      fill: #1967D2;\n",
              "      height: 32px;\n",
              "      padding: 0 0 0 0;\n",
              "      width: 32px;\n",
              "    }\n",
              "\n",
              "    .colab-df-convert:hover {\n",
              "      background-color: #E2EBFA;\n",
              "      box-shadow: 0px 1px 2px rgba(60, 64, 67, 0.3), 0px 1px 3px 1px rgba(60, 64, 67, 0.15);\n",
              "      fill: #174EA6;\n",
              "    }\n",
              "\n",
              "    [theme=dark] .colab-df-convert {\n",
              "      background-color: #3B4455;\n",
              "      fill: #D2E3FC;\n",
              "    }\n",
              "\n",
              "    [theme=dark] .colab-df-convert:hover {\n",
              "      background-color: #434B5C;\n",
              "      box-shadow: 0px 1px 3px 1px rgba(0, 0, 0, 0.15);\n",
              "      filter: drop-shadow(0px 1px 2px rgba(0, 0, 0, 0.3));\n",
              "      fill: #FFFFFF;\n",
              "    }\n",
              "  </style>\n",
              "\n",
              "      <script>\n",
              "        const buttonEl =\n",
              "          document.querySelector('#df-bbf2927b-072a-4b8e-9329-41c59000878f button.colab-df-convert');\n",
              "        buttonEl.style.display =\n",
              "          google.colab.kernel.accessAllowed ? 'block' : 'none';\n",
              "\n",
              "        async function convertToInteractive(key) {\n",
              "          const element = document.querySelector('#df-bbf2927b-072a-4b8e-9329-41c59000878f');\n",
              "          const dataTable =\n",
              "            await google.colab.kernel.invokeFunction('convertToInteractive',\n",
              "                                                     [key], {});\n",
              "          if (!dataTable) return;\n",
              "\n",
              "          const docLinkHtml = 'Like what you see? Visit the ' +\n",
              "            '<a target=\"_blank\" href=https://colab.research.google.com/notebooks/data_table.ipynb>data table notebook</a>'\n",
              "            + ' to learn more about interactive tables.';\n",
              "          element.innerHTML = '';\n",
              "          dataTable['output_type'] = 'display_data';\n",
              "          await google.colab.output.renderOutput(dataTable, element);\n",
              "          const docLink = document.createElement('div');\n",
              "          docLink.innerHTML = docLinkHtml;\n",
              "          element.appendChild(docLink);\n",
              "        }\n",
              "      </script>\n",
              "    </div>\n",
              "  </div>\n",
              "  "
            ]
          },
          "metadata": {},
          "execution_count": 20
        }
      ]
    },
    {
      "cell_type": "markdown",
      "source": [
        "20. Identifique un dataset de su interés en algún repositorio online Google Data Set Search, UCI Machine Learning, Kaggle, etc. Descárguelo y cárguelo en la carpeta de Colab. Impórtelo en un dataframe y guarde la información correspondiente a su descripción."
      ],
      "metadata": {
        "id": "3a4qSGsXPDhp"
      }
    },
    {
      "cell_type": "code",
      "source": [
        "#se lee desde un archivo en github\n",
        "data = pd.read_csv(\"https://raw.githubusercontent.com/danmcode/python_exercises/main/suicide%20homicide%20gdp.csv\")\n",
        "data"
      ],
      "metadata": {
        "id": "300Q_lTCW6tG",
        "colab": {
          "base_uri": "https://localhost:8080/",
          "height": 589
        },
        "outputId": "09d44c14-488b-4005-bf48-9f55bedb9596"
      },
      "execution_count": null,
      "outputs": [
        {
          "output_type": "execute_result",
          "data": {
            "text/plain": [
              "           country iso3c iso2c  year  \\\n",
              "0      Afghanistan   AFG    AF  1970   \n",
              "1      Afghanistan   AFG    AF  1971   \n",
              "2      Afghanistan   AFG    AF  1972   \n",
              "3      Afghanistan   AFG    AF  1973   \n",
              "4      Afghanistan   AFG    AF  1974   \n",
              "...            ...   ...   ...   ...   \n",
              "13561     Zimbabwe   ZWE    ZW  2016   \n",
              "13562     Zimbabwe   ZWE    ZW  2017   \n",
              "13563     Zimbabwe   ZWE    ZW  2018   \n",
              "13564     Zimbabwe   ZWE    ZW  2019   \n",
              "13565     Zimbabwe   ZWE    ZW  2020   \n",
              "\n",
              "       Intentional homicides (per 100,000 people)  \\\n",
              "0                                             NaN   \n",
              "1                                             NaN   \n",
              "2                                             NaN   \n",
              "3                                             NaN   \n",
              "4                                             NaN   \n",
              "...                                           ...   \n",
              "13561                                         NaN   \n",
              "13562                                         NaN   \n",
              "13563                                         NaN   \n",
              "13564                                         NaN   \n",
              "13565                                         NaN   \n",
              "\n",
              "       Suicide mortality rate (per 100,000 population)  GDP (current US$)  \\\n",
              "0                                                  NaN       1.748887e+09   \n",
              "1                                                  NaN       1.831109e+09   \n",
              "2                                                  NaN       1.595555e+09   \n",
              "3                                                  NaN       1.733333e+09   \n",
              "4                                                  NaN       2.155555e+09   \n",
              "...                                                ...                ...   \n",
              "13561                                             16.8       2.054868e+10   \n",
              "13562                                             15.0       1.758489e+10   \n",
              "13563                                             14.0       1.811554e+10   \n",
              "13564                                             14.1       1.928429e+10   \n",
              "13565                                              NaN       1.805117e+10   \n",
              "\n",
              "       GDP per capita, PPP (current international $)  \\\n",
              "0                                                NaN   \n",
              "1                                                NaN   \n",
              "2                                                NaN   \n",
              "3                                                NaN   \n",
              "4                                                NaN   \n",
              "...                                              ...   \n",
              "13561                                    2806.469032   \n",
              "13562                                    3795.642431   \n",
              "13563                                    4017.221716   \n",
              "13564                                    3783.547898   \n",
              "13565                                    3537.351394   \n",
              "\n",
              "                                      adminregion          incomeLevel  \n",
              "0                                      South Asia           Low income  \n",
              "1                                      South Asia           Low income  \n",
              "2                                      South Asia           Low income  \n",
              "3                                      South Asia           Low income  \n",
              "4                                      South Asia           Low income  \n",
              "...                                           ...                  ...  \n",
              "13561  Sub-Saharan Africa (excluding high income)  Lower middle income  \n",
              "13562  Sub-Saharan Africa (excluding high income)  Lower middle income  \n",
              "13563  Sub-Saharan Africa (excluding high income)  Lower middle income  \n",
              "13564  Sub-Saharan Africa (excluding high income)  Lower middle income  \n",
              "13565  Sub-Saharan Africa (excluding high income)  Lower middle income  \n",
              "\n",
              "[13566 rows x 10 columns]"
            ],
            "text/html": [
              "\n",
              "  <div id=\"df-95247d5f-e25c-4caf-94d4-67ccf131193a\">\n",
              "    <div class=\"colab-df-container\">\n",
              "      <div>\n",
              "<style scoped>\n",
              "    .dataframe tbody tr th:only-of-type {\n",
              "        vertical-align: middle;\n",
              "    }\n",
              "\n",
              "    .dataframe tbody tr th {\n",
              "        vertical-align: top;\n",
              "    }\n",
              "\n",
              "    .dataframe thead th {\n",
              "        text-align: right;\n",
              "    }\n",
              "</style>\n",
              "<table border=\"1\" class=\"dataframe\">\n",
              "  <thead>\n",
              "    <tr style=\"text-align: right;\">\n",
              "      <th></th>\n",
              "      <th>country</th>\n",
              "      <th>iso3c</th>\n",
              "      <th>iso2c</th>\n",
              "      <th>year</th>\n",
              "      <th>Intentional homicides (per 100,000 people)</th>\n",
              "      <th>Suicide mortality rate (per 100,000 population)</th>\n",
              "      <th>GDP (current US$)</th>\n",
              "      <th>GDP per capita, PPP (current international $)</th>\n",
              "      <th>adminregion</th>\n",
              "      <th>incomeLevel</th>\n",
              "    </tr>\n",
              "  </thead>\n",
              "  <tbody>\n",
              "    <tr>\n",
              "      <th>0</th>\n",
              "      <td>Afghanistan</td>\n",
              "      <td>AFG</td>\n",
              "      <td>AF</td>\n",
              "      <td>1970</td>\n",
              "      <td>NaN</td>\n",
              "      <td>NaN</td>\n",
              "      <td>1.748887e+09</td>\n",
              "      <td>NaN</td>\n",
              "      <td>South Asia</td>\n",
              "      <td>Low income</td>\n",
              "    </tr>\n",
              "    <tr>\n",
              "      <th>1</th>\n",
              "      <td>Afghanistan</td>\n",
              "      <td>AFG</td>\n",
              "      <td>AF</td>\n",
              "      <td>1971</td>\n",
              "      <td>NaN</td>\n",
              "      <td>NaN</td>\n",
              "      <td>1.831109e+09</td>\n",
              "      <td>NaN</td>\n",
              "      <td>South Asia</td>\n",
              "      <td>Low income</td>\n",
              "    </tr>\n",
              "    <tr>\n",
              "      <th>2</th>\n",
              "      <td>Afghanistan</td>\n",
              "      <td>AFG</td>\n",
              "      <td>AF</td>\n",
              "      <td>1972</td>\n",
              "      <td>NaN</td>\n",
              "      <td>NaN</td>\n",
              "      <td>1.595555e+09</td>\n",
              "      <td>NaN</td>\n",
              "      <td>South Asia</td>\n",
              "      <td>Low income</td>\n",
              "    </tr>\n",
              "    <tr>\n",
              "      <th>3</th>\n",
              "      <td>Afghanistan</td>\n",
              "      <td>AFG</td>\n",
              "      <td>AF</td>\n",
              "      <td>1973</td>\n",
              "      <td>NaN</td>\n",
              "      <td>NaN</td>\n",
              "      <td>1.733333e+09</td>\n",
              "      <td>NaN</td>\n",
              "      <td>South Asia</td>\n",
              "      <td>Low income</td>\n",
              "    </tr>\n",
              "    <tr>\n",
              "      <th>4</th>\n",
              "      <td>Afghanistan</td>\n",
              "      <td>AFG</td>\n",
              "      <td>AF</td>\n",
              "      <td>1974</td>\n",
              "      <td>NaN</td>\n",
              "      <td>NaN</td>\n",
              "      <td>2.155555e+09</td>\n",
              "      <td>NaN</td>\n",
              "      <td>South Asia</td>\n",
              "      <td>Low income</td>\n",
              "    </tr>\n",
              "    <tr>\n",
              "      <th>...</th>\n",
              "      <td>...</td>\n",
              "      <td>...</td>\n",
              "      <td>...</td>\n",
              "      <td>...</td>\n",
              "      <td>...</td>\n",
              "      <td>...</td>\n",
              "      <td>...</td>\n",
              "      <td>...</td>\n",
              "      <td>...</td>\n",
              "      <td>...</td>\n",
              "    </tr>\n",
              "    <tr>\n",
              "      <th>13561</th>\n",
              "      <td>Zimbabwe</td>\n",
              "      <td>ZWE</td>\n",
              "      <td>ZW</td>\n",
              "      <td>2016</td>\n",
              "      <td>NaN</td>\n",
              "      <td>16.8</td>\n",
              "      <td>2.054868e+10</td>\n",
              "      <td>2806.469032</td>\n",
              "      <td>Sub-Saharan Africa (excluding high income)</td>\n",
              "      <td>Lower middle income</td>\n",
              "    </tr>\n",
              "    <tr>\n",
              "      <th>13562</th>\n",
              "      <td>Zimbabwe</td>\n",
              "      <td>ZWE</td>\n",
              "      <td>ZW</td>\n",
              "      <td>2017</td>\n",
              "      <td>NaN</td>\n",
              "      <td>15.0</td>\n",
              "      <td>1.758489e+10</td>\n",
              "      <td>3795.642431</td>\n",
              "      <td>Sub-Saharan Africa (excluding high income)</td>\n",
              "      <td>Lower middle income</td>\n",
              "    </tr>\n",
              "    <tr>\n",
              "      <th>13563</th>\n",
              "      <td>Zimbabwe</td>\n",
              "      <td>ZWE</td>\n",
              "      <td>ZW</td>\n",
              "      <td>2018</td>\n",
              "      <td>NaN</td>\n",
              "      <td>14.0</td>\n",
              "      <td>1.811554e+10</td>\n",
              "      <td>4017.221716</td>\n",
              "      <td>Sub-Saharan Africa (excluding high income)</td>\n",
              "      <td>Lower middle income</td>\n",
              "    </tr>\n",
              "    <tr>\n",
              "      <th>13564</th>\n",
              "      <td>Zimbabwe</td>\n",
              "      <td>ZWE</td>\n",
              "      <td>ZW</td>\n",
              "      <td>2019</td>\n",
              "      <td>NaN</td>\n",
              "      <td>14.1</td>\n",
              "      <td>1.928429e+10</td>\n",
              "      <td>3783.547898</td>\n",
              "      <td>Sub-Saharan Africa (excluding high income)</td>\n",
              "      <td>Lower middle income</td>\n",
              "    </tr>\n",
              "    <tr>\n",
              "      <th>13565</th>\n",
              "      <td>Zimbabwe</td>\n",
              "      <td>ZWE</td>\n",
              "      <td>ZW</td>\n",
              "      <td>2020</td>\n",
              "      <td>NaN</td>\n",
              "      <td>NaN</td>\n",
              "      <td>1.805117e+10</td>\n",
              "      <td>3537.351394</td>\n",
              "      <td>Sub-Saharan Africa (excluding high income)</td>\n",
              "      <td>Lower middle income</td>\n",
              "    </tr>\n",
              "  </tbody>\n",
              "</table>\n",
              "<p>13566 rows × 10 columns</p>\n",
              "</div>\n",
              "      <button class=\"colab-df-convert\" onclick=\"convertToInteractive('df-95247d5f-e25c-4caf-94d4-67ccf131193a')\"\n",
              "              title=\"Convert this dataframe to an interactive table.\"\n",
              "              style=\"display:none;\">\n",
              "        \n",
              "  <svg xmlns=\"http://www.w3.org/2000/svg\" height=\"24px\"viewBox=\"0 0 24 24\"\n",
              "       width=\"24px\">\n",
              "    <path d=\"M0 0h24v24H0V0z\" fill=\"none\"/>\n",
              "    <path d=\"M18.56 5.44l.94 2.06.94-2.06 2.06-.94-2.06-.94-.94-2.06-.94 2.06-2.06.94zm-11 1L8.5 8.5l.94-2.06 2.06-.94-2.06-.94L8.5 2.5l-.94 2.06-2.06.94zm10 10l.94 2.06.94-2.06 2.06-.94-2.06-.94-.94-2.06-.94 2.06-2.06.94z\"/><path d=\"M17.41 7.96l-1.37-1.37c-.4-.4-.92-.59-1.43-.59-.52 0-1.04.2-1.43.59L10.3 9.45l-7.72 7.72c-.78.78-.78 2.05 0 2.83L4 21.41c.39.39.9.59 1.41.59.51 0 1.02-.2 1.41-.59l7.78-7.78 2.81-2.81c.8-.78.8-2.07 0-2.86zM5.41 20L4 18.59l7.72-7.72 1.47 1.35L5.41 20z\"/>\n",
              "  </svg>\n",
              "      </button>\n",
              "      \n",
              "  <style>\n",
              "    .colab-df-container {\n",
              "      display:flex;\n",
              "      flex-wrap:wrap;\n",
              "      gap: 12px;\n",
              "    }\n",
              "\n",
              "    .colab-df-convert {\n",
              "      background-color: #E8F0FE;\n",
              "      border: none;\n",
              "      border-radius: 50%;\n",
              "      cursor: pointer;\n",
              "      display: none;\n",
              "      fill: #1967D2;\n",
              "      height: 32px;\n",
              "      padding: 0 0 0 0;\n",
              "      width: 32px;\n",
              "    }\n",
              "\n",
              "    .colab-df-convert:hover {\n",
              "      background-color: #E2EBFA;\n",
              "      box-shadow: 0px 1px 2px rgba(60, 64, 67, 0.3), 0px 1px 3px 1px rgba(60, 64, 67, 0.15);\n",
              "      fill: #174EA6;\n",
              "    }\n",
              "\n",
              "    [theme=dark] .colab-df-convert {\n",
              "      background-color: #3B4455;\n",
              "      fill: #D2E3FC;\n",
              "    }\n",
              "\n",
              "    [theme=dark] .colab-df-convert:hover {\n",
              "      background-color: #434B5C;\n",
              "      box-shadow: 0px 1px 3px 1px rgba(0, 0, 0, 0.15);\n",
              "      filter: drop-shadow(0px 1px 2px rgba(0, 0, 0, 0.3));\n",
              "      fill: #FFFFFF;\n",
              "    }\n",
              "  </style>\n",
              "\n",
              "      <script>\n",
              "        const buttonEl =\n",
              "          document.querySelector('#df-95247d5f-e25c-4caf-94d4-67ccf131193a button.colab-df-convert');\n",
              "        buttonEl.style.display =\n",
              "          google.colab.kernel.accessAllowed ? 'block' : 'none';\n",
              "\n",
              "        async function convertToInteractive(key) {\n",
              "          const element = document.querySelector('#df-95247d5f-e25c-4caf-94d4-67ccf131193a');\n",
              "          const dataTable =\n",
              "            await google.colab.kernel.invokeFunction('convertToInteractive',\n",
              "                                                     [key], {});\n",
              "          if (!dataTable) return;\n",
              "\n",
              "          const docLinkHtml = 'Like what you see? Visit the ' +\n",
              "            '<a target=\"_blank\" href=https://colab.research.google.com/notebooks/data_table.ipynb>data table notebook</a>'\n",
              "            + ' to learn more about interactive tables.';\n",
              "          element.innerHTML = '';\n",
              "          dataTable['output_type'] = 'display_data';\n",
              "          await google.colab.output.renderOutput(dataTable, element);\n",
              "          const docLink = document.createElement('div');\n",
              "          docLink.innerHTML = docLinkHtml;\n",
              "          element.appendChild(docLink);\n",
              "        }\n",
              "      </script>\n",
              "    </div>\n",
              "  </div>\n",
              "  "
            ]
          },
          "metadata": {},
          "execution_count": 77
        }
      ]
    },
    {
      "cell_type": "markdown",
      "source": [
        "21. Realice una transformación matemática sencilla de alguna de las columnas del dataframe, y añada esta nueva columna"
      ],
      "metadata": {
        "id": "233wDUH_PDfQ"
      }
    },
    {
      "cell_type": "code",
      "source": [
        "# 1. Recibir una lista de columnas.\n",
        "# 2. Recorrer el valor de la columna.\n",
        "def divide_gdp(row, column):\n",
        "  \n",
        "  if type(row['GDP (current US$)']) == float :\n",
        "    return row['GDP (current US$)'] / 2\n",
        "  else:\n",
        "    return 0\n",
        "\n",
        "data[\"GDP / 2\"] =  data.apply(lambda row: divide_gdp(\n",
        "    row, data['GDP (current US$)']), \n",
        "    axis=1\n",
        "    )\n",
        "\n",
        "data"
      ],
      "metadata": {
        "id": "RnfI581ZW7Pe",
        "colab": {
          "base_uri": "https://localhost:8080/",
          "height": 676
        },
        "outputId": "34a3f51b-8df7-4f88-bec0-fe4dd3dd5ee6"
      },
      "execution_count": null,
      "outputs": [
        {
          "output_type": "execute_result",
          "data": {
            "text/plain": [
              "           country iso3c iso2c  year  \\\n",
              "0      Afghanistan   AFG    AF  1970   \n",
              "1      Afghanistan   AFG    AF  1971   \n",
              "2      Afghanistan   AFG    AF  1972   \n",
              "3      Afghanistan   AFG    AF  1973   \n",
              "4      Afghanistan   AFG    AF  1974   \n",
              "...            ...   ...   ...   ...   \n",
              "13561     Zimbabwe   ZWE    ZW  2016   \n",
              "13562     Zimbabwe   ZWE    ZW  2017   \n",
              "13563     Zimbabwe   ZWE    ZW  2018   \n",
              "13564     Zimbabwe   ZWE    ZW  2019   \n",
              "13565     Zimbabwe   ZWE    ZW  2020   \n",
              "\n",
              "       Intentional homicides (per 100,000 people)  \\\n",
              "0                                             NaN   \n",
              "1                                             NaN   \n",
              "2                                             NaN   \n",
              "3                                             NaN   \n",
              "4                                             NaN   \n",
              "...                                           ...   \n",
              "13561                                         NaN   \n",
              "13562                                         NaN   \n",
              "13563                                         NaN   \n",
              "13564                                         NaN   \n",
              "13565                                         NaN   \n",
              "\n",
              "       Suicide mortality rate (per 100,000 population)  GDP (current US$)  \\\n",
              "0                                                  NaN       1.748887e+09   \n",
              "1                                                  NaN       1.831109e+09   \n",
              "2                                                  NaN       1.595555e+09   \n",
              "3                                                  NaN       1.733333e+09   \n",
              "4                                                  NaN       2.155555e+09   \n",
              "...                                                ...                ...   \n",
              "13561                                             16.8       2.054868e+10   \n",
              "13562                                             15.0       1.758489e+10   \n",
              "13563                                             14.0       1.811554e+10   \n",
              "13564                                             14.1       1.928429e+10   \n",
              "13565                                              NaN       1.805117e+10   \n",
              "\n",
              "       GDP per capita, PPP (current international $)  \\\n",
              "0                                                NaN   \n",
              "1                                                NaN   \n",
              "2                                                NaN   \n",
              "3                                                NaN   \n",
              "4                                                NaN   \n",
              "...                                              ...   \n",
              "13561                                    2806.469032   \n",
              "13562                                    3795.642431   \n",
              "13563                                    4017.221716   \n",
              "13564                                    3783.547898   \n",
              "13565                                    3537.351394   \n",
              "\n",
              "                                      adminregion          incomeLevel  \\\n",
              "0                                      South Asia           Low income   \n",
              "1                                      South Asia           Low income   \n",
              "2                                      South Asia           Low income   \n",
              "3                                      South Asia           Low income   \n",
              "4                                      South Asia           Low income   \n",
              "...                                           ...                  ...   \n",
              "13561  Sub-Saharan Africa (excluding high income)  Lower middle income   \n",
              "13562  Sub-Saharan Africa (excluding high income)  Lower middle income   \n",
              "13563  Sub-Saharan Africa (excluding high income)  Lower middle income   \n",
              "13564  Sub-Saharan Africa (excluding high income)  Lower middle income   \n",
              "13565  Sub-Saharan Africa (excluding high income)  Lower middle income   \n",
              "\n",
              "            GDP / 2  \n",
              "0      8.744433e+08  \n",
              "1      9.155545e+08  \n",
              "2      7.977777e+08  \n",
              "3      8.666666e+08  \n",
              "4      1.077778e+09  \n",
              "...             ...  \n",
              "13561  1.027434e+10  \n",
              "13562  8.792445e+09  \n",
              "13563  9.057772e+09  \n",
              "13564  9.642145e+09  \n",
              "13565  9.025585e+09  \n",
              "\n",
              "[13566 rows x 11 columns]"
            ],
            "text/html": [
              "\n",
              "  <div id=\"df-2b5cb7f6-cfce-43fe-8354-e14d78259a47\">\n",
              "    <div class=\"colab-df-container\">\n",
              "      <div>\n",
              "<style scoped>\n",
              "    .dataframe tbody tr th:only-of-type {\n",
              "        vertical-align: middle;\n",
              "    }\n",
              "\n",
              "    .dataframe tbody tr th {\n",
              "        vertical-align: top;\n",
              "    }\n",
              "\n",
              "    .dataframe thead th {\n",
              "        text-align: right;\n",
              "    }\n",
              "</style>\n",
              "<table border=\"1\" class=\"dataframe\">\n",
              "  <thead>\n",
              "    <tr style=\"text-align: right;\">\n",
              "      <th></th>\n",
              "      <th>country</th>\n",
              "      <th>iso3c</th>\n",
              "      <th>iso2c</th>\n",
              "      <th>year</th>\n",
              "      <th>Intentional homicides (per 100,000 people)</th>\n",
              "      <th>Suicide mortality rate (per 100,000 population)</th>\n",
              "      <th>GDP (current US$)</th>\n",
              "      <th>GDP per capita, PPP (current international $)</th>\n",
              "      <th>adminregion</th>\n",
              "      <th>incomeLevel</th>\n",
              "      <th>GDP / 2</th>\n",
              "    </tr>\n",
              "  </thead>\n",
              "  <tbody>\n",
              "    <tr>\n",
              "      <th>0</th>\n",
              "      <td>Afghanistan</td>\n",
              "      <td>AFG</td>\n",
              "      <td>AF</td>\n",
              "      <td>1970</td>\n",
              "      <td>NaN</td>\n",
              "      <td>NaN</td>\n",
              "      <td>1.748887e+09</td>\n",
              "      <td>NaN</td>\n",
              "      <td>South Asia</td>\n",
              "      <td>Low income</td>\n",
              "      <td>8.744433e+08</td>\n",
              "    </tr>\n",
              "    <tr>\n",
              "      <th>1</th>\n",
              "      <td>Afghanistan</td>\n",
              "      <td>AFG</td>\n",
              "      <td>AF</td>\n",
              "      <td>1971</td>\n",
              "      <td>NaN</td>\n",
              "      <td>NaN</td>\n",
              "      <td>1.831109e+09</td>\n",
              "      <td>NaN</td>\n",
              "      <td>South Asia</td>\n",
              "      <td>Low income</td>\n",
              "      <td>9.155545e+08</td>\n",
              "    </tr>\n",
              "    <tr>\n",
              "      <th>2</th>\n",
              "      <td>Afghanistan</td>\n",
              "      <td>AFG</td>\n",
              "      <td>AF</td>\n",
              "      <td>1972</td>\n",
              "      <td>NaN</td>\n",
              "      <td>NaN</td>\n",
              "      <td>1.595555e+09</td>\n",
              "      <td>NaN</td>\n",
              "      <td>South Asia</td>\n",
              "      <td>Low income</td>\n",
              "      <td>7.977777e+08</td>\n",
              "    </tr>\n",
              "    <tr>\n",
              "      <th>3</th>\n",
              "      <td>Afghanistan</td>\n",
              "      <td>AFG</td>\n",
              "      <td>AF</td>\n",
              "      <td>1973</td>\n",
              "      <td>NaN</td>\n",
              "      <td>NaN</td>\n",
              "      <td>1.733333e+09</td>\n",
              "      <td>NaN</td>\n",
              "      <td>South Asia</td>\n",
              "      <td>Low income</td>\n",
              "      <td>8.666666e+08</td>\n",
              "    </tr>\n",
              "    <tr>\n",
              "      <th>4</th>\n",
              "      <td>Afghanistan</td>\n",
              "      <td>AFG</td>\n",
              "      <td>AF</td>\n",
              "      <td>1974</td>\n",
              "      <td>NaN</td>\n",
              "      <td>NaN</td>\n",
              "      <td>2.155555e+09</td>\n",
              "      <td>NaN</td>\n",
              "      <td>South Asia</td>\n",
              "      <td>Low income</td>\n",
              "      <td>1.077778e+09</td>\n",
              "    </tr>\n",
              "    <tr>\n",
              "      <th>...</th>\n",
              "      <td>...</td>\n",
              "      <td>...</td>\n",
              "      <td>...</td>\n",
              "      <td>...</td>\n",
              "      <td>...</td>\n",
              "      <td>...</td>\n",
              "      <td>...</td>\n",
              "      <td>...</td>\n",
              "      <td>...</td>\n",
              "      <td>...</td>\n",
              "      <td>...</td>\n",
              "    </tr>\n",
              "    <tr>\n",
              "      <th>13561</th>\n",
              "      <td>Zimbabwe</td>\n",
              "      <td>ZWE</td>\n",
              "      <td>ZW</td>\n",
              "      <td>2016</td>\n",
              "      <td>NaN</td>\n",
              "      <td>16.8</td>\n",
              "      <td>2.054868e+10</td>\n",
              "      <td>2806.469032</td>\n",
              "      <td>Sub-Saharan Africa (excluding high income)</td>\n",
              "      <td>Lower middle income</td>\n",
              "      <td>1.027434e+10</td>\n",
              "    </tr>\n",
              "    <tr>\n",
              "      <th>13562</th>\n",
              "      <td>Zimbabwe</td>\n",
              "      <td>ZWE</td>\n",
              "      <td>ZW</td>\n",
              "      <td>2017</td>\n",
              "      <td>NaN</td>\n",
              "      <td>15.0</td>\n",
              "      <td>1.758489e+10</td>\n",
              "      <td>3795.642431</td>\n",
              "      <td>Sub-Saharan Africa (excluding high income)</td>\n",
              "      <td>Lower middle income</td>\n",
              "      <td>8.792445e+09</td>\n",
              "    </tr>\n",
              "    <tr>\n",
              "      <th>13563</th>\n",
              "      <td>Zimbabwe</td>\n",
              "      <td>ZWE</td>\n",
              "      <td>ZW</td>\n",
              "      <td>2018</td>\n",
              "      <td>NaN</td>\n",
              "      <td>14.0</td>\n",
              "      <td>1.811554e+10</td>\n",
              "      <td>4017.221716</td>\n",
              "      <td>Sub-Saharan Africa (excluding high income)</td>\n",
              "      <td>Lower middle income</td>\n",
              "      <td>9.057772e+09</td>\n",
              "    </tr>\n",
              "    <tr>\n",
              "      <th>13564</th>\n",
              "      <td>Zimbabwe</td>\n",
              "      <td>ZWE</td>\n",
              "      <td>ZW</td>\n",
              "      <td>2019</td>\n",
              "      <td>NaN</td>\n",
              "      <td>14.1</td>\n",
              "      <td>1.928429e+10</td>\n",
              "      <td>3783.547898</td>\n",
              "      <td>Sub-Saharan Africa (excluding high income)</td>\n",
              "      <td>Lower middle income</td>\n",
              "      <td>9.642145e+09</td>\n",
              "    </tr>\n",
              "    <tr>\n",
              "      <th>13565</th>\n",
              "      <td>Zimbabwe</td>\n",
              "      <td>ZWE</td>\n",
              "      <td>ZW</td>\n",
              "      <td>2020</td>\n",
              "      <td>NaN</td>\n",
              "      <td>NaN</td>\n",
              "      <td>1.805117e+10</td>\n",
              "      <td>3537.351394</td>\n",
              "      <td>Sub-Saharan Africa (excluding high income)</td>\n",
              "      <td>Lower middle income</td>\n",
              "      <td>9.025585e+09</td>\n",
              "    </tr>\n",
              "  </tbody>\n",
              "</table>\n",
              "<p>13566 rows × 11 columns</p>\n",
              "</div>\n",
              "      <button class=\"colab-df-convert\" onclick=\"convertToInteractive('df-2b5cb7f6-cfce-43fe-8354-e14d78259a47')\"\n",
              "              title=\"Convert this dataframe to an interactive table.\"\n",
              "              style=\"display:none;\">\n",
              "        \n",
              "  <svg xmlns=\"http://www.w3.org/2000/svg\" height=\"24px\"viewBox=\"0 0 24 24\"\n",
              "       width=\"24px\">\n",
              "    <path d=\"M0 0h24v24H0V0z\" fill=\"none\"/>\n",
              "    <path d=\"M18.56 5.44l.94 2.06.94-2.06 2.06-.94-2.06-.94-.94-2.06-.94 2.06-2.06.94zm-11 1L8.5 8.5l.94-2.06 2.06-.94-2.06-.94L8.5 2.5l-.94 2.06-2.06.94zm10 10l.94 2.06.94-2.06 2.06-.94-2.06-.94-.94-2.06-.94 2.06-2.06.94z\"/><path d=\"M17.41 7.96l-1.37-1.37c-.4-.4-.92-.59-1.43-.59-.52 0-1.04.2-1.43.59L10.3 9.45l-7.72 7.72c-.78.78-.78 2.05 0 2.83L4 21.41c.39.39.9.59 1.41.59.51 0 1.02-.2 1.41-.59l7.78-7.78 2.81-2.81c.8-.78.8-2.07 0-2.86zM5.41 20L4 18.59l7.72-7.72 1.47 1.35L5.41 20z\"/>\n",
              "  </svg>\n",
              "      </button>\n",
              "      \n",
              "  <style>\n",
              "    .colab-df-container {\n",
              "      display:flex;\n",
              "      flex-wrap:wrap;\n",
              "      gap: 12px;\n",
              "    }\n",
              "\n",
              "    .colab-df-convert {\n",
              "      background-color: #E8F0FE;\n",
              "      border: none;\n",
              "      border-radius: 50%;\n",
              "      cursor: pointer;\n",
              "      display: none;\n",
              "      fill: #1967D2;\n",
              "      height: 32px;\n",
              "      padding: 0 0 0 0;\n",
              "      width: 32px;\n",
              "    }\n",
              "\n",
              "    .colab-df-convert:hover {\n",
              "      background-color: #E2EBFA;\n",
              "      box-shadow: 0px 1px 2px rgba(60, 64, 67, 0.3), 0px 1px 3px 1px rgba(60, 64, 67, 0.15);\n",
              "      fill: #174EA6;\n",
              "    }\n",
              "\n",
              "    [theme=dark] .colab-df-convert {\n",
              "      background-color: #3B4455;\n",
              "      fill: #D2E3FC;\n",
              "    }\n",
              "\n",
              "    [theme=dark] .colab-df-convert:hover {\n",
              "      background-color: #434B5C;\n",
              "      box-shadow: 0px 1px 3px 1px rgba(0, 0, 0, 0.15);\n",
              "      filter: drop-shadow(0px 1px 2px rgba(0, 0, 0, 0.3));\n",
              "      fill: #FFFFFF;\n",
              "    }\n",
              "  </style>\n",
              "\n",
              "      <script>\n",
              "        const buttonEl =\n",
              "          document.querySelector('#df-2b5cb7f6-cfce-43fe-8354-e14d78259a47 button.colab-df-convert');\n",
              "        buttonEl.style.display =\n",
              "          google.colab.kernel.accessAllowed ? 'block' : 'none';\n",
              "\n",
              "        async function convertToInteractive(key) {\n",
              "          const element = document.querySelector('#df-2b5cb7f6-cfce-43fe-8354-e14d78259a47');\n",
              "          const dataTable =\n",
              "            await google.colab.kernel.invokeFunction('convertToInteractive',\n",
              "                                                     [key], {});\n",
              "          if (!dataTable) return;\n",
              "\n",
              "          const docLinkHtml = 'Like what you see? Visit the ' +\n",
              "            '<a target=\"_blank\" href=https://colab.research.google.com/notebooks/data_table.ipynb>data table notebook</a>'\n",
              "            + ' to learn more about interactive tables.';\n",
              "          element.innerHTML = '';\n",
              "          dataTable['output_type'] = 'display_data';\n",
              "          await google.colab.output.renderOutput(dataTable, element);\n",
              "          const docLink = document.createElement('div');\n",
              "          docLink.innerHTML = docLinkHtml;\n",
              "          element.appendChild(docLink);\n",
              "        }\n",
              "      </script>\n",
              "    </div>\n",
              "  </div>\n",
              "  "
            ]
          },
          "metadata": {},
          "execution_count": 78
        }
      ]
    },
    {
      "cell_type": "markdown",
      "source": [
        "22. Borre las columnas que no son de su interés"
      ],
      "metadata": {
        "id": "yqwqoYqOPDcw"
      }
    },
    {
      "cell_type": "code",
      "source": [
        "#borrar las columnas iso3c\tiso2c\n",
        "data = data.drop([\"iso3c\"], axis=1)\n",
        "data = data.drop([\"iso2c\"], axis=1)\n",
        "data"
      ],
      "metadata": {
        "id": "nuYiduc3W7t5",
        "colab": {
          "base_uri": "https://localhost:8080/",
          "height": 589
        },
        "outputId": "7bb5f8c8-f278-45f4-e564-ea2c6d7ba1cd"
      },
      "execution_count": null,
      "outputs": [
        {
          "output_type": "execute_result",
          "data": {
            "text/plain": [
              "           country  year  Intentional homicides (per 100,000 people)  \\\n",
              "0      Afghanistan  1970                                         NaN   \n",
              "1      Afghanistan  1971                                         NaN   \n",
              "2      Afghanistan  1972                                         NaN   \n",
              "3      Afghanistan  1973                                         NaN   \n",
              "4      Afghanistan  1974                                         NaN   \n",
              "...            ...   ...                                         ...   \n",
              "13561     Zimbabwe  2016                                         NaN   \n",
              "13562     Zimbabwe  2017                                         NaN   \n",
              "13563     Zimbabwe  2018                                         NaN   \n",
              "13564     Zimbabwe  2019                                         NaN   \n",
              "13565     Zimbabwe  2020                                         NaN   \n",
              "\n",
              "       Suicide mortality rate (per 100,000 population)  GDP (current US$)  \\\n",
              "0                                                  NaN       1.748887e+09   \n",
              "1                                                  NaN       1.831109e+09   \n",
              "2                                                  NaN       1.595555e+09   \n",
              "3                                                  NaN       1.733333e+09   \n",
              "4                                                  NaN       2.155555e+09   \n",
              "...                                                ...                ...   \n",
              "13561                                             16.8       2.054868e+10   \n",
              "13562                                             15.0       1.758489e+10   \n",
              "13563                                             14.0       1.811554e+10   \n",
              "13564                                             14.1       1.928429e+10   \n",
              "13565                                              NaN       1.805117e+10   \n",
              "\n",
              "       GDP per capita, PPP (current international $)  \\\n",
              "0                                                NaN   \n",
              "1                                                NaN   \n",
              "2                                                NaN   \n",
              "3                                                NaN   \n",
              "4                                                NaN   \n",
              "...                                              ...   \n",
              "13561                                    2806.469032   \n",
              "13562                                    3795.642431   \n",
              "13563                                    4017.221716   \n",
              "13564                                    3783.547898   \n",
              "13565                                    3537.351394   \n",
              "\n",
              "                                      adminregion          incomeLevel  \\\n",
              "0                                      South Asia           Low income   \n",
              "1                                      South Asia           Low income   \n",
              "2                                      South Asia           Low income   \n",
              "3                                      South Asia           Low income   \n",
              "4                                      South Asia           Low income   \n",
              "...                                           ...                  ...   \n",
              "13561  Sub-Saharan Africa (excluding high income)  Lower middle income   \n",
              "13562  Sub-Saharan Africa (excluding high income)  Lower middle income   \n",
              "13563  Sub-Saharan Africa (excluding high income)  Lower middle income   \n",
              "13564  Sub-Saharan Africa (excluding high income)  Lower middle income   \n",
              "13565  Sub-Saharan Africa (excluding high income)  Lower middle income   \n",
              "\n",
              "            GDP / 2  \n",
              "0      8.744433e+08  \n",
              "1      9.155545e+08  \n",
              "2      7.977777e+08  \n",
              "3      8.666666e+08  \n",
              "4      1.077778e+09  \n",
              "...             ...  \n",
              "13561  1.027434e+10  \n",
              "13562  8.792445e+09  \n",
              "13563  9.057772e+09  \n",
              "13564  9.642145e+09  \n",
              "13565  9.025585e+09  \n",
              "\n",
              "[13566 rows x 9 columns]"
            ],
            "text/html": [
              "\n",
              "  <div id=\"df-6bfee9a9-037b-4562-b244-ac1159b759a6\">\n",
              "    <div class=\"colab-df-container\">\n",
              "      <div>\n",
              "<style scoped>\n",
              "    .dataframe tbody tr th:only-of-type {\n",
              "        vertical-align: middle;\n",
              "    }\n",
              "\n",
              "    .dataframe tbody tr th {\n",
              "        vertical-align: top;\n",
              "    }\n",
              "\n",
              "    .dataframe thead th {\n",
              "        text-align: right;\n",
              "    }\n",
              "</style>\n",
              "<table border=\"1\" class=\"dataframe\">\n",
              "  <thead>\n",
              "    <tr style=\"text-align: right;\">\n",
              "      <th></th>\n",
              "      <th>country</th>\n",
              "      <th>year</th>\n",
              "      <th>Intentional homicides (per 100,000 people)</th>\n",
              "      <th>Suicide mortality rate (per 100,000 population)</th>\n",
              "      <th>GDP (current US$)</th>\n",
              "      <th>GDP per capita, PPP (current international $)</th>\n",
              "      <th>adminregion</th>\n",
              "      <th>incomeLevel</th>\n",
              "      <th>GDP / 2</th>\n",
              "    </tr>\n",
              "  </thead>\n",
              "  <tbody>\n",
              "    <tr>\n",
              "      <th>0</th>\n",
              "      <td>Afghanistan</td>\n",
              "      <td>1970</td>\n",
              "      <td>NaN</td>\n",
              "      <td>NaN</td>\n",
              "      <td>1.748887e+09</td>\n",
              "      <td>NaN</td>\n",
              "      <td>South Asia</td>\n",
              "      <td>Low income</td>\n",
              "      <td>8.744433e+08</td>\n",
              "    </tr>\n",
              "    <tr>\n",
              "      <th>1</th>\n",
              "      <td>Afghanistan</td>\n",
              "      <td>1971</td>\n",
              "      <td>NaN</td>\n",
              "      <td>NaN</td>\n",
              "      <td>1.831109e+09</td>\n",
              "      <td>NaN</td>\n",
              "      <td>South Asia</td>\n",
              "      <td>Low income</td>\n",
              "      <td>9.155545e+08</td>\n",
              "    </tr>\n",
              "    <tr>\n",
              "      <th>2</th>\n",
              "      <td>Afghanistan</td>\n",
              "      <td>1972</td>\n",
              "      <td>NaN</td>\n",
              "      <td>NaN</td>\n",
              "      <td>1.595555e+09</td>\n",
              "      <td>NaN</td>\n",
              "      <td>South Asia</td>\n",
              "      <td>Low income</td>\n",
              "      <td>7.977777e+08</td>\n",
              "    </tr>\n",
              "    <tr>\n",
              "      <th>3</th>\n",
              "      <td>Afghanistan</td>\n",
              "      <td>1973</td>\n",
              "      <td>NaN</td>\n",
              "      <td>NaN</td>\n",
              "      <td>1.733333e+09</td>\n",
              "      <td>NaN</td>\n",
              "      <td>South Asia</td>\n",
              "      <td>Low income</td>\n",
              "      <td>8.666666e+08</td>\n",
              "    </tr>\n",
              "    <tr>\n",
              "      <th>4</th>\n",
              "      <td>Afghanistan</td>\n",
              "      <td>1974</td>\n",
              "      <td>NaN</td>\n",
              "      <td>NaN</td>\n",
              "      <td>2.155555e+09</td>\n",
              "      <td>NaN</td>\n",
              "      <td>South Asia</td>\n",
              "      <td>Low income</td>\n",
              "      <td>1.077778e+09</td>\n",
              "    </tr>\n",
              "    <tr>\n",
              "      <th>...</th>\n",
              "      <td>...</td>\n",
              "      <td>...</td>\n",
              "      <td>...</td>\n",
              "      <td>...</td>\n",
              "      <td>...</td>\n",
              "      <td>...</td>\n",
              "      <td>...</td>\n",
              "      <td>...</td>\n",
              "      <td>...</td>\n",
              "    </tr>\n",
              "    <tr>\n",
              "      <th>13561</th>\n",
              "      <td>Zimbabwe</td>\n",
              "      <td>2016</td>\n",
              "      <td>NaN</td>\n",
              "      <td>16.8</td>\n",
              "      <td>2.054868e+10</td>\n",
              "      <td>2806.469032</td>\n",
              "      <td>Sub-Saharan Africa (excluding high income)</td>\n",
              "      <td>Lower middle income</td>\n",
              "      <td>1.027434e+10</td>\n",
              "    </tr>\n",
              "    <tr>\n",
              "      <th>13562</th>\n",
              "      <td>Zimbabwe</td>\n",
              "      <td>2017</td>\n",
              "      <td>NaN</td>\n",
              "      <td>15.0</td>\n",
              "      <td>1.758489e+10</td>\n",
              "      <td>3795.642431</td>\n",
              "      <td>Sub-Saharan Africa (excluding high income)</td>\n",
              "      <td>Lower middle income</td>\n",
              "      <td>8.792445e+09</td>\n",
              "    </tr>\n",
              "    <tr>\n",
              "      <th>13563</th>\n",
              "      <td>Zimbabwe</td>\n",
              "      <td>2018</td>\n",
              "      <td>NaN</td>\n",
              "      <td>14.0</td>\n",
              "      <td>1.811554e+10</td>\n",
              "      <td>4017.221716</td>\n",
              "      <td>Sub-Saharan Africa (excluding high income)</td>\n",
              "      <td>Lower middle income</td>\n",
              "      <td>9.057772e+09</td>\n",
              "    </tr>\n",
              "    <tr>\n",
              "      <th>13564</th>\n",
              "      <td>Zimbabwe</td>\n",
              "      <td>2019</td>\n",
              "      <td>NaN</td>\n",
              "      <td>14.1</td>\n",
              "      <td>1.928429e+10</td>\n",
              "      <td>3783.547898</td>\n",
              "      <td>Sub-Saharan Africa (excluding high income)</td>\n",
              "      <td>Lower middle income</td>\n",
              "      <td>9.642145e+09</td>\n",
              "    </tr>\n",
              "    <tr>\n",
              "      <th>13565</th>\n",
              "      <td>Zimbabwe</td>\n",
              "      <td>2020</td>\n",
              "      <td>NaN</td>\n",
              "      <td>NaN</td>\n",
              "      <td>1.805117e+10</td>\n",
              "      <td>3537.351394</td>\n",
              "      <td>Sub-Saharan Africa (excluding high income)</td>\n",
              "      <td>Lower middle income</td>\n",
              "      <td>9.025585e+09</td>\n",
              "    </tr>\n",
              "  </tbody>\n",
              "</table>\n",
              "<p>13566 rows × 9 columns</p>\n",
              "</div>\n",
              "      <button class=\"colab-df-convert\" onclick=\"convertToInteractive('df-6bfee9a9-037b-4562-b244-ac1159b759a6')\"\n",
              "              title=\"Convert this dataframe to an interactive table.\"\n",
              "              style=\"display:none;\">\n",
              "        \n",
              "  <svg xmlns=\"http://www.w3.org/2000/svg\" height=\"24px\"viewBox=\"0 0 24 24\"\n",
              "       width=\"24px\">\n",
              "    <path d=\"M0 0h24v24H0V0z\" fill=\"none\"/>\n",
              "    <path d=\"M18.56 5.44l.94 2.06.94-2.06 2.06-.94-2.06-.94-.94-2.06-.94 2.06-2.06.94zm-11 1L8.5 8.5l.94-2.06 2.06-.94-2.06-.94L8.5 2.5l-.94 2.06-2.06.94zm10 10l.94 2.06.94-2.06 2.06-.94-2.06-.94-.94-2.06-.94 2.06-2.06.94z\"/><path d=\"M17.41 7.96l-1.37-1.37c-.4-.4-.92-.59-1.43-.59-.52 0-1.04.2-1.43.59L10.3 9.45l-7.72 7.72c-.78.78-.78 2.05 0 2.83L4 21.41c.39.39.9.59 1.41.59.51 0 1.02-.2 1.41-.59l7.78-7.78 2.81-2.81c.8-.78.8-2.07 0-2.86zM5.41 20L4 18.59l7.72-7.72 1.47 1.35L5.41 20z\"/>\n",
              "  </svg>\n",
              "      </button>\n",
              "      \n",
              "  <style>\n",
              "    .colab-df-container {\n",
              "      display:flex;\n",
              "      flex-wrap:wrap;\n",
              "      gap: 12px;\n",
              "    }\n",
              "\n",
              "    .colab-df-convert {\n",
              "      background-color: #E8F0FE;\n",
              "      border: none;\n",
              "      border-radius: 50%;\n",
              "      cursor: pointer;\n",
              "      display: none;\n",
              "      fill: #1967D2;\n",
              "      height: 32px;\n",
              "      padding: 0 0 0 0;\n",
              "      width: 32px;\n",
              "    }\n",
              "\n",
              "    .colab-df-convert:hover {\n",
              "      background-color: #E2EBFA;\n",
              "      box-shadow: 0px 1px 2px rgba(60, 64, 67, 0.3), 0px 1px 3px 1px rgba(60, 64, 67, 0.15);\n",
              "      fill: #174EA6;\n",
              "    }\n",
              "\n",
              "    [theme=dark] .colab-df-convert {\n",
              "      background-color: #3B4455;\n",
              "      fill: #D2E3FC;\n",
              "    }\n",
              "\n",
              "    [theme=dark] .colab-df-convert:hover {\n",
              "      background-color: #434B5C;\n",
              "      box-shadow: 0px 1px 3px 1px rgba(0, 0, 0, 0.15);\n",
              "      filter: drop-shadow(0px 1px 2px rgba(0, 0, 0, 0.3));\n",
              "      fill: #FFFFFF;\n",
              "    }\n",
              "  </style>\n",
              "\n",
              "      <script>\n",
              "        const buttonEl =\n",
              "          document.querySelector('#df-6bfee9a9-037b-4562-b244-ac1159b759a6 button.colab-df-convert');\n",
              "        buttonEl.style.display =\n",
              "          google.colab.kernel.accessAllowed ? 'block' : 'none';\n",
              "\n",
              "        async function convertToInteractive(key) {\n",
              "          const element = document.querySelector('#df-6bfee9a9-037b-4562-b244-ac1159b759a6');\n",
              "          const dataTable =\n",
              "            await google.colab.kernel.invokeFunction('convertToInteractive',\n",
              "                                                     [key], {});\n",
              "          if (!dataTable) return;\n",
              "\n",
              "          const docLinkHtml = 'Like what you see? Visit the ' +\n",
              "            '<a target=\"_blank\" href=https://colab.research.google.com/notebooks/data_table.ipynb>data table notebook</a>'\n",
              "            + ' to learn more about interactive tables.';\n",
              "          element.innerHTML = '';\n",
              "          dataTable['output_type'] = 'display_data';\n",
              "          await google.colab.output.renderOutput(dataTable, element);\n",
              "          const docLink = document.createElement('div');\n",
              "          docLink.innerHTML = docLinkHtml;\n",
              "          element.appendChild(docLink);\n",
              "        }\n",
              "      </script>\n",
              "    </div>\n",
              "  </div>\n",
              "  "
            ]
          },
          "metadata": {},
          "execution_count": 79
        }
      ]
    },
    {
      "cell_type": "markdown",
      "source": [
        "23. Ordene el dataframe de acuerdo a la variable más importante, en orden descendente"
      ],
      "metadata": {
        "id": "OPGDLGvFPDaW"
      }
    },
    {
      "cell_type": "code",
      "source": [
        "# Ordenar por Suicide mortality rate\n",
        "data = data.sort_values('Suicide mortality rate (per 100,000 population)', \n",
        "  ascending=False\n",
        ")\n",
        "data"
      ],
      "metadata": {
        "id": "H-wttLopW8D0",
        "colab": {
          "base_uri": "https://localhost:8080/",
          "height": 676
        },
        "outputId": "6f9ec103-a957-4b14-80ae-e7b47cf46a6e"
      },
      "execution_count": null,
      "outputs": [
        {
          "output_type": "execute_result",
          "data": {
            "text/plain": [
              "        country  year  Intentional homicides (per 100,000 people)  \\\n",
              "7082    Lesotho  2014                                         NaN   \n",
              "7083    Lesotho  2015                                   43.564605   \n",
              "7081    Lesotho  2013                                   32.437314   \n",
              "7084    Lesotho  2016                                         NaN   \n",
              "7080    Lesotho  2012                                   31.811604   \n",
              "...         ...   ...                                         ...   \n",
              "13541  Zimbabwe  1996                                         NaN   \n",
              "13542  Zimbabwe  1997                                         NaN   \n",
              "13543  Zimbabwe  1998                                         NaN   \n",
              "13544  Zimbabwe  1999                                         NaN   \n",
              "13565  Zimbabwe  2020                                         NaN   \n",
              "\n",
              "       Suicide mortality rate (per 100,000 population)  GDP (current US$)  \\\n",
              "7082                                              92.6       2.441053e+09   \n",
              "7083                                              92.4       2.359760e+09   \n",
              "7081                                              87.6       2.367113e+09   \n",
              "7084                                              87.0       2.114324e+09   \n",
              "7080                                              79.1       2.477702e+09   \n",
              "...                                                ...                ...   \n",
              "13541                                              NaN       8.553147e+09   \n",
              "13542                                              NaN       8.529572e+09   \n",
              "13543                                              NaN       6.401968e+09   \n",
              "13544                                              NaN       6.858013e+09   \n",
              "13565                                              NaN       1.805117e+10   \n",
              "\n",
              "       GDP per capita, PPP (current international $)  \\\n",
              "7082                                     2804.178667   \n",
              "7083                                     3077.397834   \n",
              "7081                                     2563.068351   \n",
              "7084                                     2990.283703   \n",
              "7080                                     2308.929035   \n",
              "...                                              ...   \n",
              "13541                                    2157.620918   \n",
              "13542                                    2233.392873   \n",
              "13543                                    2305.133991   \n",
              "13544                                    2304.452475   \n",
              "13565                                    3537.351394   \n",
              "\n",
              "                                      adminregion          incomeLevel  \\\n",
              "7082   Sub-Saharan Africa (excluding high income)  Lower middle income   \n",
              "7083   Sub-Saharan Africa (excluding high income)  Lower middle income   \n",
              "7081   Sub-Saharan Africa (excluding high income)  Lower middle income   \n",
              "7084   Sub-Saharan Africa (excluding high income)  Lower middle income   \n",
              "7080   Sub-Saharan Africa (excluding high income)  Lower middle income   \n",
              "...                                           ...                  ...   \n",
              "13541  Sub-Saharan Africa (excluding high income)  Lower middle income   \n",
              "13542  Sub-Saharan Africa (excluding high income)  Lower middle income   \n",
              "13543  Sub-Saharan Africa (excluding high income)  Lower middle income   \n",
              "13544  Sub-Saharan Africa (excluding high income)  Lower middle income   \n",
              "13565  Sub-Saharan Africa (excluding high income)  Lower middle income   \n",
              "\n",
              "            GDP / 2  \n",
              "7082   1.220527e+09  \n",
              "7083   1.179880e+09  \n",
              "7081   1.183557e+09  \n",
              "7084   1.057162e+09  \n",
              "7080   1.238851e+09  \n",
              "...             ...  \n",
              "13541  4.276573e+09  \n",
              "13542  4.264786e+09  \n",
              "13543  3.200984e+09  \n",
              "13544  3.429007e+09  \n",
              "13565  9.025585e+09  \n",
              "\n",
              "[13566 rows x 9 columns]"
            ],
            "text/html": [
              "\n",
              "  <div id=\"df-2149a727-73d0-4156-98f9-0d4112f86cf9\">\n",
              "    <div class=\"colab-df-container\">\n",
              "      <div>\n",
              "<style scoped>\n",
              "    .dataframe tbody tr th:only-of-type {\n",
              "        vertical-align: middle;\n",
              "    }\n",
              "\n",
              "    .dataframe tbody tr th {\n",
              "        vertical-align: top;\n",
              "    }\n",
              "\n",
              "    .dataframe thead th {\n",
              "        text-align: right;\n",
              "    }\n",
              "</style>\n",
              "<table border=\"1\" class=\"dataframe\">\n",
              "  <thead>\n",
              "    <tr style=\"text-align: right;\">\n",
              "      <th></th>\n",
              "      <th>country</th>\n",
              "      <th>year</th>\n",
              "      <th>Intentional homicides (per 100,000 people)</th>\n",
              "      <th>Suicide mortality rate (per 100,000 population)</th>\n",
              "      <th>GDP (current US$)</th>\n",
              "      <th>GDP per capita, PPP (current international $)</th>\n",
              "      <th>adminregion</th>\n",
              "      <th>incomeLevel</th>\n",
              "      <th>GDP / 2</th>\n",
              "    </tr>\n",
              "  </thead>\n",
              "  <tbody>\n",
              "    <tr>\n",
              "      <th>7082</th>\n",
              "      <td>Lesotho</td>\n",
              "      <td>2014</td>\n",
              "      <td>NaN</td>\n",
              "      <td>92.6</td>\n",
              "      <td>2.441053e+09</td>\n",
              "      <td>2804.178667</td>\n",
              "      <td>Sub-Saharan Africa (excluding high income)</td>\n",
              "      <td>Lower middle income</td>\n",
              "      <td>1.220527e+09</td>\n",
              "    </tr>\n",
              "    <tr>\n",
              "      <th>7083</th>\n",
              "      <td>Lesotho</td>\n",
              "      <td>2015</td>\n",
              "      <td>43.564605</td>\n",
              "      <td>92.4</td>\n",
              "      <td>2.359760e+09</td>\n",
              "      <td>3077.397834</td>\n",
              "      <td>Sub-Saharan Africa (excluding high income)</td>\n",
              "      <td>Lower middle income</td>\n",
              "      <td>1.179880e+09</td>\n",
              "    </tr>\n",
              "    <tr>\n",
              "      <th>7081</th>\n",
              "      <td>Lesotho</td>\n",
              "      <td>2013</td>\n",
              "      <td>32.437314</td>\n",
              "      <td>87.6</td>\n",
              "      <td>2.367113e+09</td>\n",
              "      <td>2563.068351</td>\n",
              "      <td>Sub-Saharan Africa (excluding high income)</td>\n",
              "      <td>Lower middle income</td>\n",
              "      <td>1.183557e+09</td>\n",
              "    </tr>\n",
              "    <tr>\n",
              "      <th>7084</th>\n",
              "      <td>Lesotho</td>\n",
              "      <td>2016</td>\n",
              "      <td>NaN</td>\n",
              "      <td>87.0</td>\n",
              "      <td>2.114324e+09</td>\n",
              "      <td>2990.283703</td>\n",
              "      <td>Sub-Saharan Africa (excluding high income)</td>\n",
              "      <td>Lower middle income</td>\n",
              "      <td>1.057162e+09</td>\n",
              "    </tr>\n",
              "    <tr>\n",
              "      <th>7080</th>\n",
              "      <td>Lesotho</td>\n",
              "      <td>2012</td>\n",
              "      <td>31.811604</td>\n",
              "      <td>79.1</td>\n",
              "      <td>2.477702e+09</td>\n",
              "      <td>2308.929035</td>\n",
              "      <td>Sub-Saharan Africa (excluding high income)</td>\n",
              "      <td>Lower middle income</td>\n",
              "      <td>1.238851e+09</td>\n",
              "    </tr>\n",
              "    <tr>\n",
              "      <th>...</th>\n",
              "      <td>...</td>\n",
              "      <td>...</td>\n",
              "      <td>...</td>\n",
              "      <td>...</td>\n",
              "      <td>...</td>\n",
              "      <td>...</td>\n",
              "      <td>...</td>\n",
              "      <td>...</td>\n",
              "      <td>...</td>\n",
              "    </tr>\n",
              "    <tr>\n",
              "      <th>13541</th>\n",
              "      <td>Zimbabwe</td>\n",
              "      <td>1996</td>\n",
              "      <td>NaN</td>\n",
              "      <td>NaN</td>\n",
              "      <td>8.553147e+09</td>\n",
              "      <td>2157.620918</td>\n",
              "      <td>Sub-Saharan Africa (excluding high income)</td>\n",
              "      <td>Lower middle income</td>\n",
              "      <td>4.276573e+09</td>\n",
              "    </tr>\n",
              "    <tr>\n",
              "      <th>13542</th>\n",
              "      <td>Zimbabwe</td>\n",
              "      <td>1997</td>\n",
              "      <td>NaN</td>\n",
              "      <td>NaN</td>\n",
              "      <td>8.529572e+09</td>\n",
              "      <td>2233.392873</td>\n",
              "      <td>Sub-Saharan Africa (excluding high income)</td>\n",
              "      <td>Lower middle income</td>\n",
              "      <td>4.264786e+09</td>\n",
              "    </tr>\n",
              "    <tr>\n",
              "      <th>13543</th>\n",
              "      <td>Zimbabwe</td>\n",
              "      <td>1998</td>\n",
              "      <td>NaN</td>\n",
              "      <td>NaN</td>\n",
              "      <td>6.401968e+09</td>\n",
              "      <td>2305.133991</td>\n",
              "      <td>Sub-Saharan Africa (excluding high income)</td>\n",
              "      <td>Lower middle income</td>\n",
              "      <td>3.200984e+09</td>\n",
              "    </tr>\n",
              "    <tr>\n",
              "      <th>13544</th>\n",
              "      <td>Zimbabwe</td>\n",
              "      <td>1999</td>\n",
              "      <td>NaN</td>\n",
              "      <td>NaN</td>\n",
              "      <td>6.858013e+09</td>\n",
              "      <td>2304.452475</td>\n",
              "      <td>Sub-Saharan Africa (excluding high income)</td>\n",
              "      <td>Lower middle income</td>\n",
              "      <td>3.429007e+09</td>\n",
              "    </tr>\n",
              "    <tr>\n",
              "      <th>13565</th>\n",
              "      <td>Zimbabwe</td>\n",
              "      <td>2020</td>\n",
              "      <td>NaN</td>\n",
              "      <td>NaN</td>\n",
              "      <td>1.805117e+10</td>\n",
              "      <td>3537.351394</td>\n",
              "      <td>Sub-Saharan Africa (excluding high income)</td>\n",
              "      <td>Lower middle income</td>\n",
              "      <td>9.025585e+09</td>\n",
              "    </tr>\n",
              "  </tbody>\n",
              "</table>\n",
              "<p>13566 rows × 9 columns</p>\n",
              "</div>\n",
              "      <button class=\"colab-df-convert\" onclick=\"convertToInteractive('df-2149a727-73d0-4156-98f9-0d4112f86cf9')\"\n",
              "              title=\"Convert this dataframe to an interactive table.\"\n",
              "              style=\"display:none;\">\n",
              "        \n",
              "  <svg xmlns=\"http://www.w3.org/2000/svg\" height=\"24px\"viewBox=\"0 0 24 24\"\n",
              "       width=\"24px\">\n",
              "    <path d=\"M0 0h24v24H0V0z\" fill=\"none\"/>\n",
              "    <path d=\"M18.56 5.44l.94 2.06.94-2.06 2.06-.94-2.06-.94-.94-2.06-.94 2.06-2.06.94zm-11 1L8.5 8.5l.94-2.06 2.06-.94-2.06-.94L8.5 2.5l-.94 2.06-2.06.94zm10 10l.94 2.06.94-2.06 2.06-.94-2.06-.94-.94-2.06-.94 2.06-2.06.94z\"/><path d=\"M17.41 7.96l-1.37-1.37c-.4-.4-.92-.59-1.43-.59-.52 0-1.04.2-1.43.59L10.3 9.45l-7.72 7.72c-.78.78-.78 2.05 0 2.83L4 21.41c.39.39.9.59 1.41.59.51 0 1.02-.2 1.41-.59l7.78-7.78 2.81-2.81c.8-.78.8-2.07 0-2.86zM5.41 20L4 18.59l7.72-7.72 1.47 1.35L5.41 20z\"/>\n",
              "  </svg>\n",
              "      </button>\n",
              "      \n",
              "  <style>\n",
              "    .colab-df-container {\n",
              "      display:flex;\n",
              "      flex-wrap:wrap;\n",
              "      gap: 12px;\n",
              "    }\n",
              "\n",
              "    .colab-df-convert {\n",
              "      background-color: #E8F0FE;\n",
              "      border: none;\n",
              "      border-radius: 50%;\n",
              "      cursor: pointer;\n",
              "      display: none;\n",
              "      fill: #1967D2;\n",
              "      height: 32px;\n",
              "      padding: 0 0 0 0;\n",
              "      width: 32px;\n",
              "    }\n",
              "\n",
              "    .colab-df-convert:hover {\n",
              "      background-color: #E2EBFA;\n",
              "      box-shadow: 0px 1px 2px rgba(60, 64, 67, 0.3), 0px 1px 3px 1px rgba(60, 64, 67, 0.15);\n",
              "      fill: #174EA6;\n",
              "    }\n",
              "\n",
              "    [theme=dark] .colab-df-convert {\n",
              "      background-color: #3B4455;\n",
              "      fill: #D2E3FC;\n",
              "    }\n",
              "\n",
              "    [theme=dark] .colab-df-convert:hover {\n",
              "      background-color: #434B5C;\n",
              "      box-shadow: 0px 1px 3px 1px rgba(0, 0, 0, 0.15);\n",
              "      filter: drop-shadow(0px 1px 2px rgba(0, 0, 0, 0.3));\n",
              "      fill: #FFFFFF;\n",
              "    }\n",
              "  </style>\n",
              "\n",
              "      <script>\n",
              "        const buttonEl =\n",
              "          document.querySelector('#df-2149a727-73d0-4156-98f9-0d4112f86cf9 button.colab-df-convert');\n",
              "        buttonEl.style.display =\n",
              "          google.colab.kernel.accessAllowed ? 'block' : 'none';\n",
              "\n",
              "        async function convertToInteractive(key) {\n",
              "          const element = document.querySelector('#df-2149a727-73d0-4156-98f9-0d4112f86cf9');\n",
              "          const dataTable =\n",
              "            await google.colab.kernel.invokeFunction('convertToInteractive',\n",
              "                                                     [key], {});\n",
              "          if (!dataTable) return;\n",
              "\n",
              "          const docLinkHtml = 'Like what you see? Visit the ' +\n",
              "            '<a target=\"_blank\" href=https://colab.research.google.com/notebooks/data_table.ipynb>data table notebook</a>'\n",
              "            + ' to learn more about interactive tables.';\n",
              "          element.innerHTML = '';\n",
              "          dataTable['output_type'] = 'display_data';\n",
              "          await google.colab.output.renderOutput(dataTable, element);\n",
              "          const docLink = document.createElement('div');\n",
              "          docLink.innerHTML = docLinkHtml;\n",
              "          element.appendChild(docLink);\n",
              "        }\n",
              "      </script>\n",
              "    </div>\n",
              "  </div>\n",
              "  "
            ]
          },
          "metadata": {},
          "execution_count": 80
        }
      ]
    },
    {
      "cell_type": "markdown",
      "source": [
        "24. Añada una columna en que se presenten horas aleatorias en formato datetime"
      ],
      "metadata": {
        "id": "MCBNBzaBPDXo"
      }
    },
    {
      "cell_type": "code",
      "source": [
        "from random import randrange\n",
        "from datetime import timedelta\n",
        "\n",
        "import random\n",
        "import time\n",
        "    \n",
        "def str_time_prop(start, end, time_format, prop):\n",
        "\n",
        "    start_time = time.mktime(time.strptime(start, time_format))\n",
        "    end_time = time.mktime(time.strptime(end, time_format))\n",
        "\n",
        "    ptime = start_time + prop * (end_time - start_time)\n",
        "\n",
        "    return time.strftime(time_format, time.localtime(ptime))\n",
        "\n",
        "\n",
        "def random_date(start, end, prop):\n",
        "    return str_time_prop(start, end, '%m/%d/%Y %I:%M %p', prop)\n",
        "    \n",
        "print(random_date(\"1/1/2020 1:30 PM\", \"1/1/2030 4:50 AM\", random.random()))\n",
        "\n",
        "data[\"ramdom_time\"] =  data.apply(lambda row: random_date(\"1/1/2020 1:30 PM\", \"1/1/2030 4:50 AM\", random.random()), \n",
        "    axis=1\n",
        "    )\n",
        "\n",
        "data\n"
      ],
      "metadata": {
        "id": "8dhh9PEWW8cS",
        "colab": {
          "base_uri": "https://localhost:8080/",
          "height": 867
        },
        "outputId": "787f76ea-856c-4e38-b86a-02c1133035b3"
      },
      "execution_count": null,
      "outputs": [
        {
          "output_type": "stream",
          "name": "stdout",
          "text": [
            "01/08/2021 01:26 AM\n"
          ]
        },
        {
          "output_type": "execute_result",
          "data": {
            "text/plain": [
              "        country  year  Intentional homicides (per 100,000 people)  \\\n",
              "7082    Lesotho  2014                                         NaN   \n",
              "7083    Lesotho  2015                                   43.564605   \n",
              "7081    Lesotho  2013                                   32.437314   \n",
              "7084    Lesotho  2016                                         NaN   \n",
              "7080    Lesotho  2012                                   31.811604   \n",
              "...         ...   ...                                         ...   \n",
              "13541  Zimbabwe  1996                                         NaN   \n",
              "13542  Zimbabwe  1997                                         NaN   \n",
              "13543  Zimbabwe  1998                                         NaN   \n",
              "13544  Zimbabwe  1999                                         NaN   \n",
              "13565  Zimbabwe  2020                                         NaN   \n",
              "\n",
              "       Suicide mortality rate (per 100,000 population)  GDP (current US$)  \\\n",
              "7082                                              92.6       2.441053e+09   \n",
              "7083                                              92.4       2.359760e+09   \n",
              "7081                                              87.6       2.367113e+09   \n",
              "7084                                              87.0       2.114324e+09   \n",
              "7080                                              79.1       2.477702e+09   \n",
              "...                                                ...                ...   \n",
              "13541                                              NaN       8.553147e+09   \n",
              "13542                                              NaN       8.529572e+09   \n",
              "13543                                              NaN       6.401968e+09   \n",
              "13544                                              NaN       6.858013e+09   \n",
              "13565                                              NaN       1.805117e+10   \n",
              "\n",
              "       GDP per capita, PPP (current international $)  \\\n",
              "7082                                     2804.178667   \n",
              "7083                                     3077.397834   \n",
              "7081                                     2563.068351   \n",
              "7084                                     2990.283703   \n",
              "7080                                     2308.929035   \n",
              "...                                              ...   \n",
              "13541                                    2157.620918   \n",
              "13542                                    2233.392873   \n",
              "13543                                    2305.133991   \n",
              "13544                                    2304.452475   \n",
              "13565                                    3537.351394   \n",
              "\n",
              "                                      adminregion          incomeLevel  \\\n",
              "7082   Sub-Saharan Africa (excluding high income)  Lower middle income   \n",
              "7083   Sub-Saharan Africa (excluding high income)  Lower middle income   \n",
              "7081   Sub-Saharan Africa (excluding high income)  Lower middle income   \n",
              "7084   Sub-Saharan Africa (excluding high income)  Lower middle income   \n",
              "7080   Sub-Saharan Africa (excluding high income)  Lower middle income   \n",
              "...                                           ...                  ...   \n",
              "13541  Sub-Saharan Africa (excluding high income)  Lower middle income   \n",
              "13542  Sub-Saharan Africa (excluding high income)  Lower middle income   \n",
              "13543  Sub-Saharan Africa (excluding high income)  Lower middle income   \n",
              "13544  Sub-Saharan Africa (excluding high income)  Lower middle income   \n",
              "13565  Sub-Saharan Africa (excluding high income)  Lower middle income   \n",
              "\n",
              "            GDP / 2          ramdom_time  \n",
              "7082   1.220527e+09  03/12/2024 03:15 AM  \n",
              "7083   1.179880e+09  07/03/2021 07:17 AM  \n",
              "7081   1.183557e+09  08/18/2028 06:42 AM  \n",
              "7084   1.057162e+09  07/25/2023 03:11 AM  \n",
              "7080   1.238851e+09  06/02/2025 08:21 PM  \n",
              "...             ...                  ...  \n",
              "13541  4.276573e+09  04/30/2027 06:40 PM  \n",
              "13542  4.264786e+09  11/15/2027 11:02 PM  \n",
              "13543  3.200984e+09  05/20/2026 09:09 PM  \n",
              "13544  3.429007e+09  08/18/2022 12:43 AM  \n",
              "13565  9.025585e+09  01/11/2023 09:44 PM  \n",
              "\n",
              "[13566 rows x 10 columns]"
            ],
            "text/html": [
              "\n",
              "  <div id=\"df-5eaf4f8e-4fa9-4293-8385-dcc2a6605f0c\">\n",
              "    <div class=\"colab-df-container\">\n",
              "      <div>\n",
              "<style scoped>\n",
              "    .dataframe tbody tr th:only-of-type {\n",
              "        vertical-align: middle;\n",
              "    }\n",
              "\n",
              "    .dataframe tbody tr th {\n",
              "        vertical-align: top;\n",
              "    }\n",
              "\n",
              "    .dataframe thead th {\n",
              "        text-align: right;\n",
              "    }\n",
              "</style>\n",
              "<table border=\"1\" class=\"dataframe\">\n",
              "  <thead>\n",
              "    <tr style=\"text-align: right;\">\n",
              "      <th></th>\n",
              "      <th>country</th>\n",
              "      <th>year</th>\n",
              "      <th>Intentional homicides (per 100,000 people)</th>\n",
              "      <th>Suicide mortality rate (per 100,000 population)</th>\n",
              "      <th>GDP (current US$)</th>\n",
              "      <th>GDP per capita, PPP (current international $)</th>\n",
              "      <th>adminregion</th>\n",
              "      <th>incomeLevel</th>\n",
              "      <th>GDP / 2</th>\n",
              "      <th>ramdom_time</th>\n",
              "    </tr>\n",
              "  </thead>\n",
              "  <tbody>\n",
              "    <tr>\n",
              "      <th>7082</th>\n",
              "      <td>Lesotho</td>\n",
              "      <td>2014</td>\n",
              "      <td>NaN</td>\n",
              "      <td>92.6</td>\n",
              "      <td>2.441053e+09</td>\n",
              "      <td>2804.178667</td>\n",
              "      <td>Sub-Saharan Africa (excluding high income)</td>\n",
              "      <td>Lower middle income</td>\n",
              "      <td>1.220527e+09</td>\n",
              "      <td>03/12/2024 03:15 AM</td>\n",
              "    </tr>\n",
              "    <tr>\n",
              "      <th>7083</th>\n",
              "      <td>Lesotho</td>\n",
              "      <td>2015</td>\n",
              "      <td>43.564605</td>\n",
              "      <td>92.4</td>\n",
              "      <td>2.359760e+09</td>\n",
              "      <td>3077.397834</td>\n",
              "      <td>Sub-Saharan Africa (excluding high income)</td>\n",
              "      <td>Lower middle income</td>\n",
              "      <td>1.179880e+09</td>\n",
              "      <td>07/03/2021 07:17 AM</td>\n",
              "    </tr>\n",
              "    <tr>\n",
              "      <th>7081</th>\n",
              "      <td>Lesotho</td>\n",
              "      <td>2013</td>\n",
              "      <td>32.437314</td>\n",
              "      <td>87.6</td>\n",
              "      <td>2.367113e+09</td>\n",
              "      <td>2563.068351</td>\n",
              "      <td>Sub-Saharan Africa (excluding high income)</td>\n",
              "      <td>Lower middle income</td>\n",
              "      <td>1.183557e+09</td>\n",
              "      <td>08/18/2028 06:42 AM</td>\n",
              "    </tr>\n",
              "    <tr>\n",
              "      <th>7084</th>\n",
              "      <td>Lesotho</td>\n",
              "      <td>2016</td>\n",
              "      <td>NaN</td>\n",
              "      <td>87.0</td>\n",
              "      <td>2.114324e+09</td>\n",
              "      <td>2990.283703</td>\n",
              "      <td>Sub-Saharan Africa (excluding high income)</td>\n",
              "      <td>Lower middle income</td>\n",
              "      <td>1.057162e+09</td>\n",
              "      <td>07/25/2023 03:11 AM</td>\n",
              "    </tr>\n",
              "    <tr>\n",
              "      <th>7080</th>\n",
              "      <td>Lesotho</td>\n",
              "      <td>2012</td>\n",
              "      <td>31.811604</td>\n",
              "      <td>79.1</td>\n",
              "      <td>2.477702e+09</td>\n",
              "      <td>2308.929035</td>\n",
              "      <td>Sub-Saharan Africa (excluding high income)</td>\n",
              "      <td>Lower middle income</td>\n",
              "      <td>1.238851e+09</td>\n",
              "      <td>06/02/2025 08:21 PM</td>\n",
              "    </tr>\n",
              "    <tr>\n",
              "      <th>...</th>\n",
              "      <td>...</td>\n",
              "      <td>...</td>\n",
              "      <td>...</td>\n",
              "      <td>...</td>\n",
              "      <td>...</td>\n",
              "      <td>...</td>\n",
              "      <td>...</td>\n",
              "      <td>...</td>\n",
              "      <td>...</td>\n",
              "      <td>...</td>\n",
              "    </tr>\n",
              "    <tr>\n",
              "      <th>13541</th>\n",
              "      <td>Zimbabwe</td>\n",
              "      <td>1996</td>\n",
              "      <td>NaN</td>\n",
              "      <td>NaN</td>\n",
              "      <td>8.553147e+09</td>\n",
              "      <td>2157.620918</td>\n",
              "      <td>Sub-Saharan Africa (excluding high income)</td>\n",
              "      <td>Lower middle income</td>\n",
              "      <td>4.276573e+09</td>\n",
              "      <td>04/30/2027 06:40 PM</td>\n",
              "    </tr>\n",
              "    <tr>\n",
              "      <th>13542</th>\n",
              "      <td>Zimbabwe</td>\n",
              "      <td>1997</td>\n",
              "      <td>NaN</td>\n",
              "      <td>NaN</td>\n",
              "      <td>8.529572e+09</td>\n",
              "      <td>2233.392873</td>\n",
              "      <td>Sub-Saharan Africa (excluding high income)</td>\n",
              "      <td>Lower middle income</td>\n",
              "      <td>4.264786e+09</td>\n",
              "      <td>11/15/2027 11:02 PM</td>\n",
              "    </tr>\n",
              "    <tr>\n",
              "      <th>13543</th>\n",
              "      <td>Zimbabwe</td>\n",
              "      <td>1998</td>\n",
              "      <td>NaN</td>\n",
              "      <td>NaN</td>\n",
              "      <td>6.401968e+09</td>\n",
              "      <td>2305.133991</td>\n",
              "      <td>Sub-Saharan Africa (excluding high income)</td>\n",
              "      <td>Lower middle income</td>\n",
              "      <td>3.200984e+09</td>\n",
              "      <td>05/20/2026 09:09 PM</td>\n",
              "    </tr>\n",
              "    <tr>\n",
              "      <th>13544</th>\n",
              "      <td>Zimbabwe</td>\n",
              "      <td>1999</td>\n",
              "      <td>NaN</td>\n",
              "      <td>NaN</td>\n",
              "      <td>6.858013e+09</td>\n",
              "      <td>2304.452475</td>\n",
              "      <td>Sub-Saharan Africa (excluding high income)</td>\n",
              "      <td>Lower middle income</td>\n",
              "      <td>3.429007e+09</td>\n",
              "      <td>08/18/2022 12:43 AM</td>\n",
              "    </tr>\n",
              "    <tr>\n",
              "      <th>13565</th>\n",
              "      <td>Zimbabwe</td>\n",
              "      <td>2020</td>\n",
              "      <td>NaN</td>\n",
              "      <td>NaN</td>\n",
              "      <td>1.805117e+10</td>\n",
              "      <td>3537.351394</td>\n",
              "      <td>Sub-Saharan Africa (excluding high income)</td>\n",
              "      <td>Lower middle income</td>\n",
              "      <td>9.025585e+09</td>\n",
              "      <td>01/11/2023 09:44 PM</td>\n",
              "    </tr>\n",
              "  </tbody>\n",
              "</table>\n",
              "<p>13566 rows × 10 columns</p>\n",
              "</div>\n",
              "      <button class=\"colab-df-convert\" onclick=\"convertToInteractive('df-5eaf4f8e-4fa9-4293-8385-dcc2a6605f0c')\"\n",
              "              title=\"Convert this dataframe to an interactive table.\"\n",
              "              style=\"display:none;\">\n",
              "        \n",
              "  <svg xmlns=\"http://www.w3.org/2000/svg\" height=\"24px\"viewBox=\"0 0 24 24\"\n",
              "       width=\"24px\">\n",
              "    <path d=\"M0 0h24v24H0V0z\" fill=\"none\"/>\n",
              "    <path d=\"M18.56 5.44l.94 2.06.94-2.06 2.06-.94-2.06-.94-.94-2.06-.94 2.06-2.06.94zm-11 1L8.5 8.5l.94-2.06 2.06-.94-2.06-.94L8.5 2.5l-.94 2.06-2.06.94zm10 10l.94 2.06.94-2.06 2.06-.94-2.06-.94-.94-2.06-.94 2.06-2.06.94z\"/><path d=\"M17.41 7.96l-1.37-1.37c-.4-.4-.92-.59-1.43-.59-.52 0-1.04.2-1.43.59L10.3 9.45l-7.72 7.72c-.78.78-.78 2.05 0 2.83L4 21.41c.39.39.9.59 1.41.59.51 0 1.02-.2 1.41-.59l7.78-7.78 2.81-2.81c.8-.78.8-2.07 0-2.86zM5.41 20L4 18.59l7.72-7.72 1.47 1.35L5.41 20z\"/>\n",
              "  </svg>\n",
              "      </button>\n",
              "      \n",
              "  <style>\n",
              "    .colab-df-container {\n",
              "      display:flex;\n",
              "      flex-wrap:wrap;\n",
              "      gap: 12px;\n",
              "    }\n",
              "\n",
              "    .colab-df-convert {\n",
              "      background-color: #E8F0FE;\n",
              "      border: none;\n",
              "      border-radius: 50%;\n",
              "      cursor: pointer;\n",
              "      display: none;\n",
              "      fill: #1967D2;\n",
              "      height: 32px;\n",
              "      padding: 0 0 0 0;\n",
              "      width: 32px;\n",
              "    }\n",
              "\n",
              "    .colab-df-convert:hover {\n",
              "      background-color: #E2EBFA;\n",
              "      box-shadow: 0px 1px 2px rgba(60, 64, 67, 0.3), 0px 1px 3px 1px rgba(60, 64, 67, 0.15);\n",
              "      fill: #174EA6;\n",
              "    }\n",
              "\n",
              "    [theme=dark] .colab-df-convert {\n",
              "      background-color: #3B4455;\n",
              "      fill: #D2E3FC;\n",
              "    }\n",
              "\n",
              "    [theme=dark] .colab-df-convert:hover {\n",
              "      background-color: #434B5C;\n",
              "      box-shadow: 0px 1px 3px 1px rgba(0, 0, 0, 0.15);\n",
              "      filter: drop-shadow(0px 1px 2px rgba(0, 0, 0, 0.3));\n",
              "      fill: #FFFFFF;\n",
              "    }\n",
              "  </style>\n",
              "\n",
              "      <script>\n",
              "        const buttonEl =\n",
              "          document.querySelector('#df-5eaf4f8e-4fa9-4293-8385-dcc2a6605f0c button.colab-df-convert');\n",
              "        buttonEl.style.display =\n",
              "          google.colab.kernel.accessAllowed ? 'block' : 'none';\n",
              "\n",
              "        async function convertToInteractive(key) {\n",
              "          const element = document.querySelector('#df-5eaf4f8e-4fa9-4293-8385-dcc2a6605f0c');\n",
              "          const dataTable =\n",
              "            await google.colab.kernel.invokeFunction('convertToInteractive',\n",
              "                                                     [key], {});\n",
              "          if (!dataTable) return;\n",
              "\n",
              "          const docLinkHtml = 'Like what you see? Visit the ' +\n",
              "            '<a target=\"_blank\" href=https://colab.research.google.com/notebooks/data_table.ipynb>data table notebook</a>'\n",
              "            + ' to learn more about interactive tables.';\n",
              "          element.innerHTML = '';\n",
              "          dataTable['output_type'] = 'display_data';\n",
              "          await google.colab.output.renderOutput(dataTable, element);\n",
              "          const docLink = document.createElement('div');\n",
              "          docLink.innerHTML = docLinkHtml;\n",
              "          element.appendChild(docLink);\n",
              "        }\n",
              "      </script>\n",
              "    </div>\n",
              "  </div>\n",
              "  "
            ]
          },
          "metadata": {},
          "execution_count": 81
        }
      ]
    },
    {
      "cell_type": "markdown",
      "source": [
        "25. Utilice las función plot directamente desde pandas para graficar varias columnas de interés"
      ],
      "metadata": {
        "id": "CSFAiVIDPDV6"
      }
    },
    {
      "cell_type": "code",
      "source": [
        "ax = data.plot.density(\n",
        "    x='year', \n",
        "    y='Suicide mortality rate (per 100,000 population)', \n",
        "    rot=0,\n",
        "    )\n",
        "ax"
      ],
      "metadata": {
        "id": "a7KCIBqFW9Li",
        "colab": {
          "base_uri": "https://localhost:8080/",
          "height": 282
        },
        "outputId": "09f7ba70-a222-41fe-c082-82941c4983e5"
      },
      "execution_count": null,
      "outputs": [
        {
          "output_type": "execute_result",
          "data": {
            "text/plain": [
              "<matplotlib.axes._subplots.AxesSubplot at 0x7f513357e110>"
            ]
          },
          "metadata": {},
          "execution_count": 106
        },
        {
          "output_type": "display_data",
          "data": {
            "text/plain": [
              "<Figure size 432x288 with 1 Axes>"
            ],
            "image/png": "[encoded data removed]"
          },
          "metadata": {
            "needs_background": "light"
          }
        }
      ]
    },
    {
      "cell_type": "markdown",
      "source": [
        "26. Identifique 5 variables interesantes y realice para cada una un gráfico de su distribución"
      ],
      "metadata": {
        "id": "av_zo_9-PDRD"
      }
    },
    {
      "cell_type": "code",
      "source": [
        "ax1 = data.plot.scatter(\n",
        "    x='Intentional homicides (per 100,000 people)', \n",
        "    y='Suicide mortality rate (per 100,000 population)', \n",
        "    rot=0,\n",
        "    )\n",
        "ax1\n",
        "\n",
        "ax2 = data.plot.scatter(\n",
        "    x='GDP (current US$)', \n",
        "    y='Suicide mortality rate (per 100,000 population)', \n",
        "    rot=0,\n",
        "    )\n",
        "ax2"
      ],
      "metadata": {
        "id": "QkxgeNoTW9o-",
        "colab": {
          "base_uri": "https://localhost:8080/",
          "height": 576
        },
        "outputId": "69beab27-62c7-474c-fa7d-1456f1a717b4"
      },
      "execution_count": null,
      "outputs": [
        {
          "output_type": "execute_result",
          "data": {
            "text/plain": [
              "<matplotlib.axes._subplots.AxesSubplot at 0x7f511d74b610>"
            ]
          },
          "metadata": {},
          "execution_count": 118
        },
        {
          "output_type": "display_data",
          "data": {
            "text/plain": [
              "<Figure size 432x288 with 1 Axes>"
            ],
            "image/png": "[encoded data removed]"
          },
          "metadata": {
            "needs_background": "light"
          }
        },
        {
          "output_type": "display_data",
          "data": {
            "text/plain": [
              "<Figure size 432x288 with 1 Axes>"
            ],
            "image/png": "[encoded data removed]"
          },
          "metadata": {
            "needs_background": "light"
          }
        }
      ]
    },
    {
      "cell_type": "markdown",
      "source": [
        "27. Escriba un programa que pida dos números enteros e indique si son iguales o cual de los dos es mayor."
      ],
      "metadata": {
        "id": "G145E2-BPDJh"
      }
    },
    {
      "cell_type": "code",
      "source": [
        "is_correct = False\n",
        "number = 0\n",
        "\n",
        "# if number is no at number, ask again\n",
        "# the number\n",
        "while(not is_correct):\n",
        "  try:\n",
        "    # get a number\n",
        "    number_one = int(input(\"Ingresa el primer numero entero: \"))\n",
        "    number_two = int(input(\"Ingresa el segundo numero entero: \"))\n",
        "    is_correct = True\n",
        "\n",
        "  except ValueError:\n",
        "    #catch the error if NaN\n",
        "    print(\"Error, No has Introducido un numero entero positivo\")\n",
        "\n",
        "if number_one > number_two:\n",
        "  print(\"El número uno: \" + str(number_one) + \" es mayor que el numero dos \" + str(number_two))\n",
        "elif number_one < number_two:\n",
        "  print(\"El número dos: \" + str(number_two) + \" es mayor que el numero uno \" + str(number_one))\n",
        "else:\n",
        "  print(\"Los números son iguales\")\n"
      ],
      "metadata": {
        "id": "tMhO15-yW-Op",
        "colab": {
          "base_uri": "https://localhost:8080/"
        },
        "outputId": "4250a95a-4aef-4484-9429-cfd783a500f7"
      },
      "execution_count": null,
      "outputs": [
        {
          "output_type": "stream",
          "name": "stdout",
          "text": [
            "Ingresa el primer numero entero: 3\n",
            "Ingresa el segundo numero entero: 4\n",
            "El número dos: 4 es mayor que el numero uno 3\n"
          ]
        }
      ]
    },
    {
      "cell_type": "markdown",
      "source": [
        "28. Escriba un programa que imprima los números impares del 1 al 99"
      ],
      "metadata": {
        "id": "QiRwIWBxPDAv"
      }
    },
    {
      "cell_type": "code",
      "source": [
        "#7. print odd numbers\n",
        "for i in range(1, 99 + 1):\n",
        "  if i % 2 != 0:\n",
        "    print(i)"
      ],
      "metadata": {
        "id": "W8CiL805W-kd",
        "colab": {
          "base_uri": "https://localhost:8080/"
        },
        "outputId": "78646728-91b5-416a-c2ee-3da1b49a85f5"
      },
      "execution_count": null,
      "outputs": [
        {
          "output_type": "stream",
          "name": "stdout",
          "text": [
            "1\n",
            "3\n",
            "5\n",
            "7\n",
            "9\n",
            "11\n",
            "13\n",
            "15\n",
            "17\n",
            "19\n",
            "21\n",
            "23\n",
            "25\n",
            "27\n",
            "29\n",
            "31\n",
            "33\n",
            "35\n",
            "37\n",
            "39\n",
            "41\n",
            "43\n",
            "45\n",
            "47\n",
            "49\n",
            "51\n",
            "53\n",
            "55\n",
            "57\n",
            "59\n",
            "61\n",
            "63\n",
            "65\n",
            "67\n",
            "69\n",
            "71\n",
            "73\n",
            "75\n",
            "77\n",
            "79\n",
            "81\n",
            "83\n",
            "85\n",
            "87\n",
            "89\n",
            "91\n",
            "93\n",
            "95\n",
            "97\n",
            "99\n"
          ]
        }
      ]
    },
    {
      "cell_type": "markdown",
      "source": [
        "29. Realice un programa que pide un número positivo al usuario y almacena la respuesta en la variable \"numero\". Después comprueba si el número es negativo. Si lo es, el programa avisa que no era eso lo que se había pedido."
      ],
      "metadata": {
        "id": "ELFCrl3zPC1J"
      }
    },
    {
      "cell_type": "code",
      "source": [
        "#5. even number\n",
        "is_correct = False\n",
        "number = 0\n",
        "\n",
        "# if number is no at number, ask again\n",
        "# the number\n",
        "while(not is_correct):\n",
        "  try:\n",
        "    # get a number\n",
        "    number = int(input(\"Ingresa un numero entero: \"))\n",
        "    is_correct = True\n",
        "\n",
        "  except ValueError:\n",
        "    #catch the error if NaN\n",
        "    print(\"Error, Introducir un numero entero positivo\")\n",
        "\n",
        "\n",
        "if number % 2 == 0:\n",
        "  print(\"El numero es par\")\n",
        "else:\n",
        "  print(\"El numero no es par\")"
      ],
      "metadata": {
        "id": "H6JxNYrRW-8Q",
        "colab": {
          "base_uri": "https://localhost:8080/"
        },
        "outputId": "cd7df955-d72b-47ac-dad7-3da68e9e5963"
      },
      "execution_count": null,
      "outputs": [
        {
          "output_type": "stream",
          "name": "stdout",
          "text": [
            "Ingresa un numero entero: 78\n",
            "El numero es par\n"
          ]
        }
      ]
    },
    {
      "cell_type": "markdown",
      "source": [
        "# **Algebra Lineal**"
      ],
      "metadata": {
        "id": "zOrS-1CgKynQ"
      }
    },
    {
      "cell_type": "markdown",
      "source": [
        "31. Cree dos matrices de enteros aleatorios (use la función random) de 3x3 y dos de 2x3 utilizando Numpy, realice las siguientes operaciones manualmente (entre cada combinación de matrices) y compruebe el resultado usando Python. a) Suma de matrices. b) Multiplicación de matrices. c) Determinante de una matriz. d) Matriz inversa. e) Autovalores de una matriz. f ) Autovectores de una matriz. g) Matriz traspuesta. h) Matriz adjunta. i) Rango de una matriz."
      ],
      "metadata": {
        "id": "9w4vmnwkXKXr"
      }
    },
    {
      "cell_type": "code",
      "source": [],
      "metadata": {
        "id": "X18EO_lTctMz"
      },
      "execution_count": null,
      "outputs": []
    },
    {
      "cell_type": "markdown",
      "source": [
        "32. Resolver utilizando eliminación gaussiana el sistema de ecuaciones lineales planteado en la Celda Lalg01 (AB=I)"
      ],
      "metadata": {
        "id": "523vGibbXLcz"
      }
    },
    {
      "cell_type": "code",
      "source": [],
      "metadata": {
        "id": "gab2i7b5cs4g"
      },
      "execution_count": null,
      "outputs": []
    },
    {
      "cell_type": "markdown",
      "source": [
        "33. Escribir una función para determinar si es más eficiente computacionalmente utilizar linalg.solve(A,I) or utilizar inv(A). Basándose en la celda Lalg01"
      ],
      "metadata": {
        "id": "dfOK998vXMai"
      }
    },
    {
      "cell_type": "code",
      "source": [],
      "metadata": {
        "id": "ewC5eCBBcsUE"
      },
      "execution_count": null,
      "outputs": []
    },
    {
      "cell_type": "markdown",
      "source": [
        "34. Crear una función que calcule el determinante de una matriz nxn donde n>2"
      ],
      "metadata": {
        "id": "_08tANfEXNQR"
      }
    },
    {
      "cell_type": "code",
      "source": [],
      "metadata": {
        "id": "gPIfmRaBcsBV"
      },
      "execution_count": null,
      "outputs": []
    },
    {
      "cell_type": "markdown",
      "source": [
        "35. Crear una función que calcule la inversa de una matriz a partir de la formula vista en la celda Lalg03"
      ],
      "metadata": {
        "id": "JEIeBanOXcHo"
      }
    },
    {
      "cell_type": "code",
      "source": [],
      "metadata": {
        "id": "T-dk3YRgcrtz"
      },
      "execution_count": null,
      "outputs": []
    },
    {
      "cell_type": "markdown",
      "source": [
        "36. Tomar la función plot_un_sq que está en la celda Lalg02 y volverla una función de un módulo aparte al que ud. Importará para poderla ejecutar."
      ],
      "metadata": {
        "id": "c-OXhEhiXdA4"
      }
    },
    {
      "cell_type": "code",
      "source": [],
      "metadata": {
        "id": "8AsIWjBqcrX9"
      },
      "execution_count": null,
      "outputs": []
    },
    {
      "cell_type": "markdown",
      "source": [
        "37. En la celda Linalg05 calcule el determinante de la matriz manualmente o con la función que determinó en el punto 48, y explique por qué esta matriz es singular"
      ],
      "metadata": {
        "id": "jYUZsKclXdoS"
      }
    },
    {
      "cell_type": "code",
      "source": [],
      "metadata": {
        "id": "SyGdXWDCcrHZ"
      },
      "execution_count": null,
      "outputs": []
    },
    {
      "cell_type": "markdown",
      "source": [
        "#**Calculo**"
      ],
      "metadata": {
        "id": "dnhCxsSYLAeD"
      }
    },
    {
      "cell_type": "markdown",
      "source": [
        "38. Crear una función que grafique la derivada de otra función, pasándole como argumentos la función y el rango de valores para el cual quiere calcular la derivada. Utilice como base el código de la celda Calc01"
      ],
      "metadata": {
        "id": "LphHCPBMXgav"
      }
    },
    {
      "cell_type": "code",
      "source": [],
      "metadata": {
        "id": "_Dp7EX3Ecqym"
      },
      "execution_count": null,
      "outputs": []
    },
    {
      "cell_type": "markdown",
      "source": [
        "39. Proponga tres soluciones alternativas al problema de plotear las derivadas constantes (ver la celda Calc02)"
      ],
      "metadata": {
        "id": "gY0JoodnXhrP"
      }
    },
    {
      "cell_type": "code",
      "source": [],
      "metadata": {
        "id": "CAbFt0qEcqio"
      },
      "execution_count": null,
      "outputs": []
    },
    {
      "cell_type": "markdown",
      "source": [
        "40. Calcule la derivada de esta función y grafíquela en Python. Demuestre que en ella aplica la regla de la suma y la diferencia p(x) = 2x^4 + 7x^3 + 6x^2 - 2x + 15"
      ],
      "metadata": {
        "id": "JO2is015XjGW"
      }
    },
    {
      "cell_type": "code",
      "source": [],
      "metadata": {
        "id": "fyCrWcYScqF1"
      },
      "execution_count": null,
      "outputs": []
    },
    {
      "cell_type": "markdown",
      "source": [
        "41. Calcular las derivadas parciales de la función f(x,y)=3x-x^2y^2+2x^3y usando SymP"
      ],
      "metadata": {
        "id": "riraA2WRXkh5"
      }
    },
    {
      "cell_type": "code",
      "source": [],
      "metadata": {
        "id": "zIvaIjfmcp2H"
      },
      "execution_count": null,
      "outputs": []
    },
    {
      "cell_type": "markdown",
      "source": [
        "42. Escoger una función del link https://en.wikipedia.org/wiki/Test_functions_for_optimization y probar diferentes optimizadores para determinar cuáles tienen mayores probabilidades de éxito (encontrar el mínimo global) en dichas funciones."
      ],
      "metadata": {
        "id": "XFO0L1sVXlVL"
      }
    },
    {
      "cell_type": "code",
      "source": [],
      "metadata": {
        "id": "lSChjuL7cpj2"
      },
      "execution_count": null,
      "outputs": []
    },
    {
      "cell_type": "markdown",
      "source": [
        "43. Graficar el plano tangencial correspondiente a las derivadas en x e y de la función de la celda Calc04"
      ],
      "metadata": {
        "id": "5AU82YF1XmE1"
      }
    },
    {
      "cell_type": "code",
      "source": [],
      "metadata": {
        "id": "rRZGTk70coX8"
      },
      "execution_count": null,
      "outputs": []
    },
    {
      "cell_type": "markdown",
      "source": [
        "44. Explique qué problema se presenta en la gráfica 4 de la celda Calc03, y soluciónelo."
      ],
      "metadata": {
        "id": "EcwK5AmhXn25"
      }
    },
    {
      "cell_type": "code",
      "source": [],
      "metadata": {
        "id": "9HzYY4_Xcnw6"
      },
      "execution_count": null,
      "outputs": []
    },
    {
      "cell_type": "markdown",
      "source": [
        "# **Estadistica**"
      ],
      "metadata": {
        "id": "VBG0fqn5LJxV"
      }
    },
    {
      "cell_type": "markdown",
      "source": [
        "45. Realizar los pairplots o los scatterplots del dataset de mammal’s sleep habits."
      ],
      "metadata": {
        "id": "vgtFOLsTXsZl"
      }
    },
    {
      "cell_type": "code",
      "source": [],
      "metadata": {
        "id": "VlkdI6xicnKf"
      },
      "execution_count": null,
      "outputs": []
    },
    {
      "cell_type": "markdown",
      "source": [
        "46. Calcular la matriz de covarianza para las variables continuas del dataset de mammal’s sleep habits"
      ],
      "metadata": {
        "id": "O7lpX9KrXtQd"
      }
    },
    {
      "cell_type": "code",
      "source": [],
      "metadata": {
        "id": "VQC9NGglcmyZ"
      },
      "execution_count": null,
      "outputs": []
    },
    {
      "cell_type": "markdown",
      "source": [
        "47. Investigue qué otros kernels (aparte del gaussiano) se pueden usar para el density plot (displot en seaborn), y en qué afectan la gráfica."
      ],
      "metadata": {
        "id": "LYx1ccG6XuCS"
      }
    },
    {
      "cell_type": "code",
      "source": [],
      "metadata": {
        "id": "B73B9s57cmdo"
      },
      "execution_count": null,
      "outputs": []
    },
    {
      "cell_type": "markdown",
      "source": [
        "48. Usando Numpy o Scipy, explique un caso en que se utilice el teorema de Bayes"
      ],
      "metadata": {
        "id": "aMFd9FyAXvIS"
      }
    },
    {
      "cell_type": "code",
      "source": [],
      "metadata": {
        "id": "tYM78UOWcl6O"
      },
      "execution_count": null,
      "outputs": []
    },
    {
      "cell_type": "markdown",
      "source": [
        "49. Halle la matrix de correlación y covarianza en las variables continuas del dataset NHANES."
      ],
      "metadata": {
        "id": "p-rpc8qWXv9R"
      }
    },
    {
      "cell_type": "code",
      "source": [],
      "metadata": {
        "id": "3dK027vPclf2"
      },
      "execution_count": null,
      "outputs": []
    },
    {
      "cell_type": "markdown",
      "source": [
        "50. Dé un ejemplo (en Python) del uso de SVD para sistemas de recomendación (como los de Netflix, Spotify, etc)"
      ],
      "metadata": {
        "id": "QStxalFIXwr7"
      }
    },
    {
      "cell_type": "code",
      "source": [],
      "metadata": {
        "id": "-c_eL9tGck-r"
      },
      "execution_count": null,
      "outputs": []
    }
  ]
}