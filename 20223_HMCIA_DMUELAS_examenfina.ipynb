{
  "nbformat": 4,
  "nbformat_minor": 0,
  "metadata": {
    "colab": {
      "provenance": [],
      "collapsed_sections": [
        "QLMjtp4cyDzP"
      ],
      "authorship_tag": "ABX9TyMDn0YjnYVuHrVGJWSAwXj/",
      "include_colab_link": true
    },
    "kernelspec": {
      "name": "python3",
      "display_name": "Python 3"
    },
    "language_info": {
      "name": "python"
    }
  },
  "cells": [
    {
      "cell_type": "markdown",
      "metadata": {
        "id": "view-in-github",
        "colab_type": "text"
      },
      "source": [
        "<a href=\"https://colab.research.google.com/github/danmcode/20223_HMCIA_DMUELAS_examenfina/blob/main/20223_HMCIA_DMUELAS_examenfina.ipynb\" target=\"_parent\"><img src=\"https://colab.research.google.com/assets/colab-badge.svg\" alt=\"Open In Colab\"/></a>"
      ]
    },
    {
      "cell_type": "markdown",
      "source": [
        "#Punto 2. Logistic Regresion"
      ],
      "metadata": {
        "id": "QLMjtp4cyDzP"
      }
    },
    {
      "cell_type": "markdown",
      "source": [],
      "metadata": {
        "id": "VrwSOc0GyL05"
      }
    },
    {
      "cell_type": "markdown",
      "source": [
        "##**Selección del dataset**\n",
        "\n",
        "Se seleccionar el dataset: [Telco Customer Churn](https://www.kaggle.com/datasets/blastchar/telco-customer-churn)\n",
        "\n",
        "\n",
        "csv: https://raw.githubusercontent.com/danmcode/20223_HMCIA_DMUELAS_examenfina/main/Telco-Customer-Churn.csv\n",
        "\n"
      ],
      "metadata": {
        "id": "w-3Kb7hfBiYn"
      }
    },
    {
      "cell_type": "markdown",
      "source": [
        "##**Explicación del dataset.**\n",
        "\n",
        "Los datos de abandono de clientes de Telco contienen información sobre una empresa de telecomunicaciones ficticia que proporcionó servicios de telefonía residencial e Internet a 7043 clientes en California en el tercer trimestre. Indica qué clientes se han ido, se han quedado o se han registrado en su servicio. Se incluyen múltiples datos demográficos importantes para cada cliente, así como un puntaje de satisfacción, un puntaje de abandono y un valor de por vida del cliente (CLTV) independientemente:\n",
        "\n",
        "`customerID`: ID unico de cada cliente\n",
        "\n",
        "`gender`: El genero del cliente: (Male, Female)\n",
        "\n",
        "`SeniorCitizen`: Indica si el cliente tiene una edad igual o mayor de 65 años\n",
        "(1 o 0)\n",
        "\n",
        "`Partner`: Indica si el cliente es socio o no (Yes o No) \n",
        "\n",
        "`Dependents`: Indica si el cliente tiene dependientes o no ()\n",
        "\n",
        "`tenure`: Numero de meses en los cuales el usuario ha estado en la compañía.\n",
        "\n",
        "`PhoneService`: Indica si el cliente tiene servicio de telefonia o no.\n",
        "\n",
        "`MultipleLines`: Indica si el cliente tiene multiples lineas o no (Yes, No, No Phone Service)\n",
        "\n",
        "`InternetService`: Proveedor de servicios de internet del proveedor.\n",
        "\n",
        "`OnlineSecurity`: Indica si el cliente tiene seguridad en linea o no (Yes, No, No Internet Service)\n",
        "\n",
        "`OnlineBackup`: Si el cliente tiene servicio de backup en linea  dispositivo o no (Yes, No, No internet service)\n",
        "\n",
        "`DeviceProtection`: Si el cliente tiene protección de dispositivo o no (Yes, No, No internet service)\n",
        "\n",
        "`TechSupport`: Si el cliente cuenta con soporte técnico o no (Yes, No, No internet service)\n",
        "\n",
        "`StreamingTV`: Si el cliente tiene el servicio de transmisión de TV (Yes, No, No internet service)\n",
        "\n",
        "`StreamingMovies`: Indica si el cliente tiene el servicio de peliculas de streaming (Yes, No, No internet service)\n",
        "\n",
        "`Contract`: Terminos del contrato del cliente (Month-to-month, One year, Two Year)\n",
        "\n",
        "`PaperlessBilling`: El cliente tiene facturación electronica o no (Yes,No)\n",
        "\n",
        "`PaymentMethod`: Forma en la que el cliente paga (Electronic check, Mailed Check, Bank transfer(automatic), Credit card (automatic))\n",
        "\n",
        "`MonthlyCharges`: Monto mensual cargado al cliente.\n",
        "\n",
        "`TotalCharges`: Monto total cargado al cliente.\n",
        "\n",
        "`Churn`: Indica si el cliente abandona o no.\n",
        "\n",
        "\n"
      ],
      "metadata": {
        "id": "cII6908OZ4Nd"
      }
    },
    {
      "cell_type": "markdown",
      "source": [
        "### **¿Que se va analizar con el dataset?**\n",
        "\n",
        "La predicción a realizar es: ¿Cuales clientes abandonaran el servicio de acuerdo a su información?"
      ],
      "metadata": {
        "id": "_necTv7RqVLh"
      }
    },
    {
      "cell_type": "markdown",
      "source": [
        "## **Solución**"
      ],
      "metadata": {
        "id": "ynZjVZXaq1EG"
      }
    },
    {
      "cell_type": "markdown",
      "source": [
        "### **Importar liberias**"
      ],
      "metadata": {
        "id": "y_oJfcmqq-AE"
      }
    },
    {
      "cell_type": "code",
      "source": [
        "import pandas as pd\n",
        "import numpy as np\n",
        "import copy\n",
        "from sklearn.model_selection import train_test_split\n",
        "from sklearn.metrics import accuracy_score\n",
        "from sklearn.linear_model import LogisticRegression"
      ],
      "metadata": {
        "id": "gc3bHSbAq0Ky"
      },
      "execution_count": null,
      "outputs": []
    },
    {
      "cell_type": "markdown",
      "source": [
        "Función para convertir la columna objetivo a binario ya que los valores son Yes o No\n",
        "\n",
        "`yes`: 1 \\\n",
        "`No`: 0 "
      ],
      "metadata": {
        "id": "BAkti3ZMtvBt"
      }
    },
    {
      "cell_type": "code",
      "source": [
        "# 1. Recibir una lista de columnas.\n",
        "# 2. Recorrer el valor de la columna.\n",
        "def convert_to_binary(row, column):\n",
        "  if row['Churn'] == \"Yes\":\n",
        "    return 1\n",
        "  else:\n",
        "    return 0"
      ],
      "metadata": {
        "id": "BCkVRVEqtuma"
      },
      "execution_count": null,
      "outputs": []
    },
    {
      "cell_type": "markdown",
      "source": [
        "###Manejo del dataset\n",
        "1. Se importa el dataset.\n",
        "2. se ajustan la columna objetivo a binaria"
      ],
      "metadata": {
        "id": "UJPXf0f_xS5S"
      }
    },
    {
      "cell_type": "code",
      "source": [
        "# Importar el DataSet.\n",
        "original_data = pd.read_csv(\"https://raw.githubusercontent.com/danmcode/20223_HMCIA_DMUELAS_examenfina/main/Telco-Customer-Churn.csv\", sep = ',')\n",
        "\n",
        "'''\n",
        "Agregar la columna ChurnBinary de acuerdo a los columna,\n",
        "Churn que no es binaria.\n",
        "'''\n",
        "original_data[\"ChurnBinary\"] =  original_data.apply(lambda row: convert_to_binary(\n",
        "    row, original_data['Churn']), \n",
        "    axis=1\n",
        "    )\n",
        "\n",
        "edited_data =  original_data.drop(['customerID'], axis=1)\n",
        "\n",
        "data_columns_list = edited_data.columns.tolist()\n",
        "\n",
        "for column in data_columns_list:\n",
        "  print(column)\n",
        "  #print(edited_data.rows[column])\n"
      ],
      "metadata": {
        "id": "bz4bFcjrYj_h",
        "colab": {
          "base_uri": "https://localhost:8080/"
        },
        "outputId": "7ad9ccec-c373-4ed5-9a79-e8abcd67c67e"
      },
      "execution_count": null,
      "outputs": [
        {
          "output_type": "stream",
          "name": "stdout",
          "text": [
            "gender\n",
            "SeniorCitizen\n",
            "Partner\n",
            "Dependents\n",
            "tenure\n",
            "PhoneService\n",
            "MultipleLines\n",
            "InternetService\n",
            "OnlineSecurity\n",
            "OnlineBackup\n",
            "DeviceProtection\n",
            "TechSupport\n",
            "StreamingTV\n",
            "StreamingMovies\n",
            "Contract\n",
            "PaperlessBilling\n",
            "PaymentMethod\n",
            "MonthlyCharges\n",
            "TotalCharges\n",
            "Churn\n",
            "ChurnBinary\n"
          ]
        }
      ]
    },
    {
      "cell_type": "markdown",
      "source": [
        "###**Configurar datos de entrenamiento y de prueba.**\n",
        "\n",
        "`x_train`: Es el grupo de entrenamiento del resto (80%) \n",
        "\n",
        "`x_test`: Es el grupo de prueba del resto (20%).\n",
        "\n",
        "`y_train`: Es el grupo de entrenamiento de la columna objetivo.\n",
        "\n",
        "`y_test`:  Es el grupo de prueba de la columna objetivo.\n",
        "\n",
        "**columna objetivio:** `ChurnBinary`"
      ],
      "metadata": {
        "id": "YpaNVaxCZr53"
      }
    },
    {
      "cell_type": "code",
      "source": [
        "x = data.drop(labels='ChurnBinary', axis = 1 )\n",
        "y = data[['ChurnBinary']]\n",
        "\n",
        "x_train, x_test, y_train, y_test = train_test_split(\n",
        "    x,\n",
        "    y,\n",
        "    test_size=0.2,\n",
        "    random_state=42\n",
        "  )\n",
        "\n",
        "print('x_train', '    y_train')\n",
        "print(x_train.shape, y_train.shape)\n",
        "print()\n",
        "print('x_test', '     y_test')\n",
        "print(x_train.shape, y_train.shape)"
      ],
      "metadata": {
        "colab": {
          "base_uri": "https://localhost:8080/"
        },
        "id": "eS_5XLsv0siG",
        "outputId": "fe0dcad6-bf66-49f6-88cf-44347a345291"
      },
      "execution_count": null,
      "outputs": [
        {
          "output_type": "stream",
          "name": "stdout",
          "text": [
            "x_train     y_train\n",
            "(5634, 21) (5634, 1)\n",
            "\n",
            "x_test      y_test\n",
            "(5634, 21) (5634, 1)\n"
          ]
        }
      ]
    },
    {
      "cell_type": "markdown",
      "source": [
        "### **Implementacion de funciones personalizadas para Regresion Logistica Binaria**"
      ],
      "metadata": {
        "id": "nWzzNl9u3tEG"
      }
    },
    {
      "cell_type": "code",
      "source": [
        "losses = []\n",
        "train_accuracies = []"
      ],
      "metadata": {
        "id": "ReAZgR7i3som"
      },
      "execution_count": null,
      "outputs": []
    },
    {
      "cell_type": "markdown",
      "source": [
        "#### **Función fit**\n",
        "Esta función maneja todo el ciclo de entrenamiento. \n",
        "\n",
        "1. Hace una transformación ¿?\n",
        "2. Se realiza los calculos con la función sigmoide.\n",
        "3. Se realiza el calculo del descenso de gradiente, con la función compute loss\n",
        "4. Se realiza el uso de la derivada de la perdida. \n",
        "\n"
      ],
      "metadata": {
        "id": "HHIgwUP4LH6l"
      }
    },
    {
      "cell_type": "code",
      "source": [
        "def fit(x, y, epochs):\n",
        "\n",
        "  global weights, bias\n",
        "  x = transform_x(x)\n",
        "  y = transform_y(y)\n",
        "\n",
        "  # Decide que tan rapido la funcion de activacion será activada\n",
        "  weights = np.zeros(x.shape[1])\n",
        "\n",
        "  # Se usa para retrasar la activación de la funcion de activación\n",
        "  bias = 0\n",
        "\n",
        "  for i in range(epochs):\n",
        "    # Calculo de los pesos\n",
        "    x_dot_weights = np.matmul(weights, x.transpose()) + bias\n",
        "    \n",
        "    # Llamado a la función sigmoide\n",
        "    pred = sigmoid(x_dot_weights)\n",
        "\n",
        "    # Llamado a la función de perdida\n",
        "    loss = compute_loss(y, pred)\n",
        "\n",
        "    # Llamada a la función de gradiente.\n",
        "    error_w, error_b = compute_gradients(x, y, pred)\n",
        "\n",
        "    # Actualizar los parametros del modelo\n",
        "    update_model_parameters(error_w, error_b)\n",
        "\n",
        "    pred_to_class = [1 if p > 0.5 else 0 for p in pred]\n",
        "    train_accuracies.append(accuracy_score(y, pred_to_class))\n",
        "    losses.append(loss)"
      ],
      "metadata": {
        "id": "bMv6_CtKHF_f"
      },
      "execution_count": null,
      "outputs": []
    },
    {
      "cell_type": "markdown",
      "source": [
        "#### **Función de activación o Función sigmoide**\n",
        "\n",
        "Para obtener la predicción se debe utilizar la función de activación."
      ],
      "metadata": {
        "id": "FaoTlkDaRR2B"
      }
    },
    {
      "cell_type": "code",
      "source": [
        "def sigmoid(x):\n",
        "  return np.array([sigmoid_function(value) for value in x])\n",
        "\n",
        "def sigmoid_function(x):\n",
        "  if x >= 0:  \n",
        "    z = np.exp(-x)\n",
        "    return 1 / (1 + z)\n",
        "  else:\n",
        "    z = np.exp(x)\n",
        "    return z / (1 + z)"
      ],
      "metadata": {
        "id": "D7Wg3lWeHhWF"
      },
      "execution_count": null,
      "outputs": []
    },
    {
      "cell_type": "markdown",
      "source": [
        "#### **Función descenso de gradiente**\n",
        "\n",
        "Que se utiliza para actualizar los parametros del modelo. \n",
        "\n",
        "Empieza calculando la diferencia (Cuanto predijo mal el modelo) lueego la utiliza para calcular los gradientes de los sesfos para encontrar un error promedio.\n",
        "\n",
        "*TODO: Investigar desesnso de gradiente estocastico*"
      ],
      "metadata": {
        "id": "6NEHNaxsR1jc"
      }
    },
    {
      "cell_type": "code",
      "source": [
        "def compute_gradients(x, y_true, y_pred):\n",
        "  # derivative of binary cross entropy\n",
        "  difference =  y_pred - y_true\n",
        "  gradient_b = np.mean(difference)\n",
        "  gradients_w = np.matmul(x.transpose(), difference)\n",
        "  gradients_w = np.array([np.mean(grad) for grad in gradients_w])\n",
        "\n",
        "  return gradients_w, gradient_b"
      ],
      "metadata": {
        "id": "MouuiQEJHSb4"
      },
      "execution_count": null,
      "outputs": []
    },
    {
      "cell_type": "markdown",
      "source": [
        "####**Función de perdida**\n",
        "\n",
        "También conocida como función de costo, es una función que se usa para medir cuanto difiere la predicción de los valores reales.\n",
        "\n",
        "Esencialmente, está encontrando todos los errores al comparar su verdad básica  `y_true` con sus predicciones `y_pred`"
      ],
      "metadata": {
        "id": "OOCJfiRDTOyu"
      }
    },
    {
      "cell_type": "code",
      "source": [
        "def compute_loss(y_true, y_pred):\n",
        "  # binary cross entropy\n",
        "  y_zero_loss = y_true * np.log(y_pred + 1e-9)\n",
        "  y_one_loss = (1-y_true) * np.log(1 - y_pred + 1e-9)\n",
        "  return -np.mean(y_zero_loss + y_one_loss)"
      ],
      "metadata": {
        "id": "Q0a5ZUcGHN6y"
      },
      "execution_count": null,
      "outputs": []
    },
    {
      "cell_type": "markdown",
      "source": [
        "#### **Actualización de los parametros del modelo**\n",
        "Una vez se han calculado los gradientes, se deben actualizar los pesos para la siguiente iteración y que este pueda aprender de los proximos errores."
      ],
      "metadata": {
        "id": "WbKa_NckWFMX"
      }
    },
    {
      "cell_type": "code",
      "source": [
        "def update_model_parameters(error_w, error_b):\n",
        "  weights = weights - 0.1 * error_w\n",
        "  bias = bias - 0.1 * error_b"
      ],
      "metadata": {
        "id": "n6fJWJb4HZ9D"
      },
      "execution_count": null,
      "outputs": []
    },
    {
      "cell_type": "markdown",
      "source": [
        "#### **Función predict**\n",
        "Genera una puntuación de precisión a partir del modelo de regresión logistica personalizada."
      ],
      "metadata": {
        "id": "Um48SekfYjU0"
      }
    },
    {
      "cell_type": "code",
      "source": [
        "\n",
        "def predict(x):\n",
        "  x_dot_weights = np.matmul(x, weights.transpose()) + bias\n",
        "  probabilities = sigmoid(x_dot_weights)\n",
        "  return [1 if p > 0.5 else 0 for p in probabilities]"
      ],
      "metadata": {
        "id": "QTw1ijDYHe0j"
      },
      "execution_count": null,
      "outputs": []
    },
    {
      "cell_type": "markdown",
      "source": [
        "#### Copias de los datos"
      ],
      "metadata": {
        "id": "xvdTf9U1YkS1"
      }
    },
    {
      "cell_type": "code",
      "source": [
        "def transform_x(x):\n",
        "  x = copy.deepcopy(x)\n",
        "  return x.values\n",
        "\n",
        "def transform_y(y):\n",
        "  y = copy.deepcopy(y)\n",
        "  return y.values.reshape(y.shape[0], 1)"
      ],
      "metadata": {
        "id": "CkcA7iwtJ9ak"
      },
      "execution_count": null,
      "outputs": []
    },
    {
      "cell_type": "code",
      "source": [
        "x_train\n",
        "#custom_result = fit(x_train, y_train, epochs = 150)"
      ],
      "metadata": {
        "colab": {
          "base_uri": "https://localhost:8080/",
          "height": 661
        },
        "id": "J6coXgt8eogj",
        "outputId": "fc1cca21-ba9d-43e4-c3c5-05a922ea730a"
      },
      "execution_count": null,
      "outputs": [
        {
          "output_type": "execute_result",
          "data": {
            "text/plain": [
              "      customerID  gender  SeniorCitizen Partner Dependents  tenure  \\\n",
              "2142  4223-BKEOR  Female              0      No        Yes      21   \n",
              "1623  6035-RIIOM  Female              0      No         No      54   \n",
              "6074  3797-VTIDR    Male              0     Yes         No       1   \n",
              "1362  2568-BRGYX    Male              0      No         No       4   \n",
              "6754  2775-SEFEE    Male              0      No        Yes       0   \n",
              "...          ...     ...            ...     ...        ...     ...   \n",
              "3772  0684-AOSIH    Male              0     Yes         No       1   \n",
              "5191  5982-PSMKW  Female              0     Yes        Yes      23   \n",
              "5226  8044-BGWPI    Male              0     Yes        Yes      12   \n",
              "5390  7450-NWRTR    Male              1      No         No      12   \n",
              "860   4795-UXVCJ    Male              0      No         No      26   \n",
              "\n",
              "     PhoneService     MultipleLines InternetService       OnlineSecurity  ...  \\\n",
              "2142          Yes                No             DSL                  Yes  ...   \n",
              "1623          Yes               Yes     Fiber optic                   No  ...   \n",
              "6074           No  No phone service             DSL                   No  ...   \n",
              "1362          Yes                No     Fiber optic                   No  ...   \n",
              "6754          Yes               Yes             DSL                  Yes  ...   \n",
              "...           ...               ...             ...                  ...  ...   \n",
              "3772          Yes                No     Fiber optic                  Yes  ...   \n",
              "5191          Yes               Yes             DSL                  Yes  ...   \n",
              "5226          Yes                No              No  No internet service  ...   \n",
              "5390          Yes               Yes     Fiber optic                   No  ...   \n",
              "860           Yes                No              No  No internet service  ...   \n",
              "\n",
              "         DeviceProtection          TechSupport          StreamingTV  \\\n",
              "2142                  Yes                   No                   No   \n",
              "1623                   No                   No                  Yes   \n",
              "6074                   No                   No                   No   \n",
              "1362                   No                   No                   No   \n",
              "6754                   No                  Yes                   No   \n",
              "...                   ...                  ...                  ...   \n",
              "3772                   No                   No                  Yes   \n",
              "5191                  Yes                  Yes                  Yes   \n",
              "5226  No internet service  No internet service  No internet service   \n",
              "5390                  Yes                   No                  Yes   \n",
              "860   No internet service  No internet service  No internet service   \n",
              "\n",
              "          StreamingMovies        Contract PaperlessBilling  \\\n",
              "2142                  Yes        One year               No   \n",
              "1623                  Yes        Two year              Yes   \n",
              "6074                   No  Month-to-month              Yes   \n",
              "1362                   No  Month-to-month              Yes   \n",
              "6754                   No        Two year              Yes   \n",
              "...                   ...             ...              ...   \n",
              "3772                  Yes  Month-to-month              Yes   \n",
              "5191                  Yes        Two year              Yes   \n",
              "5226  No internet service  Month-to-month              Yes   \n",
              "5390                  Yes  Month-to-month              Yes   \n",
              "860   No internet service        One year               No   \n",
              "\n",
              "                  PaymentMethod MonthlyCharges  TotalCharges Churn  \n",
              "2142               Mailed check          64.85        1336.8    No  \n",
              "1623  Bank transfer (automatic)          97.20       5129.45    No  \n",
              "6074           Electronic check          23.45         23.45   Yes  \n",
              "1362           Electronic check          70.20        237.95   Yes  \n",
              "6754  Bank transfer (automatic)          61.90                  No  \n",
              "...                         ...            ...           ...   ...  \n",
              "3772           Electronic check          95.00            95   Yes  \n",
              "5191    Credit card (automatic)          91.10        2198.3    No  \n",
              "5226           Electronic check          21.15        306.05    No  \n",
              "5390           Electronic check          99.45       1200.15   Yes  \n",
              "860     Credit card (automatic)          19.80         457.3    No  \n",
              "\n",
              "[5634 rows x 21 columns]"
            ],
            "text/html": [
              "\n",
              "  <div id=\"df-fb00d1ed-7a72-494c-ad74-f0d81f42c694\">\n",
              "    <div class=\"colab-df-container\">\n",
              "      <div>\n",
              "<style scoped>\n",
              "    .dataframe tbody tr th:only-of-type {\n",
              "        vertical-align: middle;\n",
              "    }\n",
              "\n",
              "    .dataframe tbody tr th {\n",
              "        vertical-align: top;\n",
              "    }\n",
              "\n",
              "    .dataframe thead th {\n",
              "        text-align: right;\n",
              "    }\n",
              "</style>\n",
              "<table border=\"1\" class=\"dataframe\">\n",
              "  <thead>\n",
              "    <tr style=\"text-align: right;\">\n",
              "      <th></th>\n",
              "      <th>customerID</th>\n",
              "      <th>gender</th>\n",
              "      <th>SeniorCitizen</th>\n",
              "      <th>Partner</th>\n",
              "      <th>Dependents</th>\n",
              "      <th>tenure</th>\n",
              "      <th>PhoneService</th>\n",
              "      <th>MultipleLines</th>\n",
              "      <th>InternetService</th>\n",
              "      <th>OnlineSecurity</th>\n",
              "      <th>...</th>\n",
              "      <th>DeviceProtection</th>\n",
              "      <th>TechSupport</th>\n",
              "      <th>StreamingTV</th>\n",
              "      <th>StreamingMovies</th>\n",
              "      <th>Contract</th>\n",
              "      <th>PaperlessBilling</th>\n",
              "      <th>PaymentMethod</th>\n",
              "      <th>MonthlyCharges</th>\n",
              "      <th>TotalCharges</th>\n",
              "      <th>Churn</th>\n",
              "    </tr>\n",
              "  </thead>\n",
              "  <tbody>\n",
              "    <tr>\n",
              "      <th>2142</th>\n",
              "      <td>4223-BKEOR</td>\n",
              "      <td>Female</td>\n",
              "      <td>0</td>\n",
              "      <td>No</td>\n",
              "      <td>Yes</td>\n",
              "      <td>21</td>\n",
              "      <td>Yes</td>\n",
              "      <td>No</td>\n",
              "      <td>DSL</td>\n",
              "      <td>Yes</td>\n",
              "      <td>...</td>\n",
              "      <td>Yes</td>\n",
              "      <td>No</td>\n",
              "      <td>No</td>\n",
              "      <td>Yes</td>\n",
              "      <td>One year</td>\n",
              "      <td>No</td>\n",
              "      <td>Mailed check</td>\n",
              "      <td>64.85</td>\n",
              "      <td>1336.8</td>\n",
              "      <td>No</td>\n",
              "    </tr>\n",
              "    <tr>\n",
              "      <th>1623</th>\n",
              "      <td>6035-RIIOM</td>\n",
              "      <td>Female</td>\n",
              "      <td>0</td>\n",
              "      <td>No</td>\n",
              "      <td>No</td>\n",
              "      <td>54</td>\n",
              "      <td>Yes</td>\n",
              "      <td>Yes</td>\n",
              "      <td>Fiber optic</td>\n",
              "      <td>No</td>\n",
              "      <td>...</td>\n",
              "      <td>No</td>\n",
              "      <td>No</td>\n",
              "      <td>Yes</td>\n",
              "      <td>Yes</td>\n",
              "      <td>Two year</td>\n",
              "      <td>Yes</td>\n",
              "      <td>Bank transfer (automatic)</td>\n",
              "      <td>97.20</td>\n",
              "      <td>5129.45</td>\n",
              "      <td>No</td>\n",
              "    </tr>\n",
              "    <tr>\n",
              "      <th>6074</th>\n",
              "      <td>3797-VTIDR</td>\n",
              "      <td>Male</td>\n",
              "      <td>0</td>\n",
              "      <td>Yes</td>\n",
              "      <td>No</td>\n",
              "      <td>1</td>\n",
              "      <td>No</td>\n",
              "      <td>No phone service</td>\n",
              "      <td>DSL</td>\n",
              "      <td>No</td>\n",
              "      <td>...</td>\n",
              "      <td>No</td>\n",
              "      <td>No</td>\n",
              "      <td>No</td>\n",
              "      <td>No</td>\n",
              "      <td>Month-to-month</td>\n",
              "      <td>Yes</td>\n",
              "      <td>Electronic check</td>\n",
              "      <td>23.45</td>\n",
              "      <td>23.45</td>\n",
              "      <td>Yes</td>\n",
              "    </tr>\n",
              "    <tr>\n",
              "      <th>1362</th>\n",
              "      <td>2568-BRGYX</td>\n",
              "      <td>Male</td>\n",
              "      <td>0</td>\n",
              "      <td>No</td>\n",
              "      <td>No</td>\n",
              "      <td>4</td>\n",
              "      <td>Yes</td>\n",
              "      <td>No</td>\n",
              "      <td>Fiber optic</td>\n",
              "      <td>No</td>\n",
              "      <td>...</td>\n",
              "      <td>No</td>\n",
              "      <td>No</td>\n",
              "      <td>No</td>\n",
              "      <td>No</td>\n",
              "      <td>Month-to-month</td>\n",
              "      <td>Yes</td>\n",
              "      <td>Electronic check</td>\n",
              "      <td>70.20</td>\n",
              "      <td>237.95</td>\n",
              "      <td>Yes</td>\n",
              "    </tr>\n",
              "    <tr>\n",
              "      <th>6754</th>\n",
              "      <td>2775-SEFEE</td>\n",
              "      <td>Male</td>\n",
              "      <td>0</td>\n",
              "      <td>No</td>\n",
              "      <td>Yes</td>\n",
              "      <td>0</td>\n",
              "      <td>Yes</td>\n",
              "      <td>Yes</td>\n",
              "      <td>DSL</td>\n",
              "      <td>Yes</td>\n",
              "      <td>...</td>\n",
              "      <td>No</td>\n",
              "      <td>Yes</td>\n",
              "      <td>No</td>\n",
              "      <td>No</td>\n",
              "      <td>Two year</td>\n",
              "      <td>Yes</td>\n",
              "      <td>Bank transfer (automatic)</td>\n",
              "      <td>61.90</td>\n",
              "      <td></td>\n",
              "      <td>No</td>\n",
              "    </tr>\n",
              "    <tr>\n",
              "      <th>...</th>\n",
              "      <td>...</td>\n",
              "      <td>...</td>\n",
              "      <td>...</td>\n",
              "      <td>...</td>\n",
              "      <td>...</td>\n",
              "      <td>...</td>\n",
              "      <td>...</td>\n",
              "      <td>...</td>\n",
              "      <td>...</td>\n",
              "      <td>...</td>\n",
              "      <td>...</td>\n",
              "      <td>...</td>\n",
              "      <td>...</td>\n",
              "      <td>...</td>\n",
              "      <td>...</td>\n",
              "      <td>...</td>\n",
              "      <td>...</td>\n",
              "      <td>...</td>\n",
              "      <td>...</td>\n",
              "      <td>...</td>\n",
              "      <td>...</td>\n",
              "    </tr>\n",
              "    <tr>\n",
              "      <th>3772</th>\n",
              "      <td>0684-AOSIH</td>\n",
              "      <td>Male</td>\n",
              "      <td>0</td>\n",
              "      <td>Yes</td>\n",
              "      <td>No</td>\n",
              "      <td>1</td>\n",
              "      <td>Yes</td>\n",
              "      <td>No</td>\n",
              "      <td>Fiber optic</td>\n",
              "      <td>Yes</td>\n",
              "      <td>...</td>\n",
              "      <td>No</td>\n",
              "      <td>No</td>\n",
              "      <td>Yes</td>\n",
              "      <td>Yes</td>\n",
              "      <td>Month-to-month</td>\n",
              "      <td>Yes</td>\n",
              "      <td>Electronic check</td>\n",
              "      <td>95.00</td>\n",
              "      <td>95</td>\n",
              "      <td>Yes</td>\n",
              "    </tr>\n",
              "    <tr>\n",
              "      <th>5191</th>\n",
              "      <td>5982-PSMKW</td>\n",
              "      <td>Female</td>\n",
              "      <td>0</td>\n",
              "      <td>Yes</td>\n",
              "      <td>Yes</td>\n",
              "      <td>23</td>\n",
              "      <td>Yes</td>\n",
              "      <td>Yes</td>\n",
              "      <td>DSL</td>\n",
              "      <td>Yes</td>\n",
              "      <td>...</td>\n",
              "      <td>Yes</td>\n",
              "      <td>Yes</td>\n",
              "      <td>Yes</td>\n",
              "      <td>Yes</td>\n",
              "      <td>Two year</td>\n",
              "      <td>Yes</td>\n",
              "      <td>Credit card (automatic)</td>\n",
              "      <td>91.10</td>\n",
              "      <td>2198.3</td>\n",
              "      <td>No</td>\n",
              "    </tr>\n",
              "    <tr>\n",
              "      <th>5226</th>\n",
              "      <td>8044-BGWPI</td>\n",
              "      <td>Male</td>\n",
              "      <td>0</td>\n",
              "      <td>Yes</td>\n",
              "      <td>Yes</td>\n",
              "      <td>12</td>\n",
              "      <td>Yes</td>\n",
              "      <td>No</td>\n",
              "      <td>No</td>\n",
              "      <td>No internet service</td>\n",
              "      <td>...</td>\n",
              "      <td>No internet service</td>\n",
              "      <td>No internet service</td>\n",
              "      <td>No internet service</td>\n",
              "      <td>No internet service</td>\n",
              "      <td>Month-to-month</td>\n",
              "      <td>Yes</td>\n",
              "      <td>Electronic check</td>\n",
              "      <td>21.15</td>\n",
              "      <td>306.05</td>\n",
              "      <td>No</td>\n",
              "    </tr>\n",
              "    <tr>\n",
              "      <th>5390</th>\n",
              "      <td>7450-NWRTR</td>\n",
              "      <td>Male</td>\n",
              "      <td>1</td>\n",
              "      <td>No</td>\n",
              "      <td>No</td>\n",
              "      <td>12</td>\n",
              "      <td>Yes</td>\n",
              "      <td>Yes</td>\n",
              "      <td>Fiber optic</td>\n",
              "      <td>No</td>\n",
              "      <td>...</td>\n",
              "      <td>Yes</td>\n",
              "      <td>No</td>\n",
              "      <td>Yes</td>\n",
              "      <td>Yes</td>\n",
              "      <td>Month-to-month</td>\n",
              "      <td>Yes</td>\n",
              "      <td>Electronic check</td>\n",
              "      <td>99.45</td>\n",
              "      <td>1200.15</td>\n",
              "      <td>Yes</td>\n",
              "    </tr>\n",
              "    <tr>\n",
              "      <th>860</th>\n",
              "      <td>4795-UXVCJ</td>\n",
              "      <td>Male</td>\n",
              "      <td>0</td>\n",
              "      <td>No</td>\n",
              "      <td>No</td>\n",
              "      <td>26</td>\n",
              "      <td>Yes</td>\n",
              "      <td>No</td>\n",
              "      <td>No</td>\n",
              "      <td>No internet service</td>\n",
              "      <td>...</td>\n",
              "      <td>No internet service</td>\n",
              "      <td>No internet service</td>\n",
              "      <td>No internet service</td>\n",
              "      <td>No internet service</td>\n",
              "      <td>One year</td>\n",
              "      <td>No</td>\n",
              "      <td>Credit card (automatic)</td>\n",
              "      <td>19.80</td>\n",
              "      <td>457.3</td>\n",
              "      <td>No</td>\n",
              "    </tr>\n",
              "  </tbody>\n",
              "</table>\n",
              "<p>5634 rows × 21 columns</p>\n",
              "</div>\n",
              "      <button class=\"colab-df-convert\" onclick=\"convertToInteractive('df-fb00d1ed-7a72-494c-ad74-f0d81f42c694')\"\n",
              "              title=\"Convert this dataframe to an interactive table.\"\n",
              "              style=\"display:none;\">\n",
              "        \n",
              "  <svg xmlns=\"http://www.w3.org/2000/svg\" height=\"24px\"viewBox=\"0 0 24 24\"\n",
              "       width=\"24px\">\n",
              "    <path d=\"M0 0h24v24H0V0z\" fill=\"none\"/>\n",
              "    <path d=\"M18.56 5.44l.94 2.06.94-2.06 2.06-.94-2.06-.94-.94-2.06-.94 2.06-2.06.94zm-11 1L8.5 8.5l.94-2.06 2.06-.94-2.06-.94L8.5 2.5l-.94 2.06-2.06.94zm10 10l.94 2.06.94-2.06 2.06-.94-2.06-.94-.94-2.06-.94 2.06-2.06.94z\"/><path d=\"M17.41 7.96l-1.37-1.37c-.4-.4-.92-.59-1.43-.59-.52 0-1.04.2-1.43.59L10.3 9.45l-7.72 7.72c-.78.78-.78 2.05 0 2.83L4 21.41c.39.39.9.59 1.41.59.51 0 1.02-.2 1.41-.59l7.78-7.78 2.81-2.81c.8-.78.8-2.07 0-2.86zM5.41 20L4 18.59l7.72-7.72 1.47 1.35L5.41 20z\"/>\n",
              "  </svg>\n",
              "      </button>\n",
              "      \n",
              "  <style>\n",
              "    .colab-df-container {\n",
              "      display:flex;\n",
              "      flex-wrap:wrap;\n",
              "      gap: 12px;\n",
              "    }\n",
              "\n",
              "    .colab-df-convert {\n",
              "      background-color: #E8F0FE;\n",
              "      border: none;\n",
              "      border-radius: 50%;\n",
              "      cursor: pointer;\n",
              "      display: none;\n",
              "      fill: #1967D2;\n",
              "      height: 32px;\n",
              "      padding: 0 0 0 0;\n",
              "      width: 32px;\n",
              "    }\n",
              "\n",
              "    .colab-df-convert:hover {\n",
              "      background-color: #E2EBFA;\n",
              "      box-shadow: 0px 1px 2px rgba(60, 64, 67, 0.3), 0px 1px 3px 1px rgba(60, 64, 67, 0.15);\n",
              "      fill: #174EA6;\n",
              "    }\n",
              "\n",
              "    [theme=dark] .colab-df-convert {\n",
              "      background-color: #3B4455;\n",
              "      fill: #D2E3FC;\n",
              "    }\n",
              "\n",
              "    [theme=dark] .colab-df-convert:hover {\n",
              "      background-color: #434B5C;\n",
              "      box-shadow: 0px 1px 3px 1px rgba(0, 0, 0, 0.15);\n",
              "      filter: drop-shadow(0px 1px 2px rgba(0, 0, 0, 0.3));\n",
              "      fill: #FFFFFF;\n",
              "    }\n",
              "  </style>\n",
              "\n",
              "      <script>\n",
              "        const buttonEl =\n",
              "          document.querySelector('#df-fb00d1ed-7a72-494c-ad74-f0d81f42c694 button.colab-df-convert');\n",
              "        buttonEl.style.display =\n",
              "          google.colab.kernel.accessAllowed ? 'block' : 'none';\n",
              "\n",
              "        async function convertToInteractive(key) {\n",
              "          const element = document.querySelector('#df-fb00d1ed-7a72-494c-ad74-f0d81f42c694');\n",
              "          const dataTable =\n",
              "            await google.colab.kernel.invokeFunction('convertToInteractive',\n",
              "                                                     [key], {});\n",
              "          if (!dataTable) return;\n",
              "\n",
              "          const docLinkHtml = 'Like what you see? Visit the ' +\n",
              "            '<a target=\"_blank\" href=https://colab.research.google.com/notebooks/data_table.ipynb>data table notebook</a>'\n",
              "            + ' to learn more about interactive tables.';\n",
              "          element.innerHTML = '';\n",
              "          dataTable['output_type'] = 'display_data';\n",
              "          await google.colab.output.renderOutput(dataTable, element);\n",
              "          const docLink = document.createElement('div');\n",
              "          docLink.innerHTML = docLinkHtml;\n",
              "          element.appendChild(docLink);\n",
              "        }\n",
              "      </script>\n",
              "    </div>\n",
              "  </div>\n",
              "  "
            ]
          },
          "metadata": {},
          "execution_count": 86
        }
      ]
    },
    {
      "cell_type": "code",
      "source": [],
      "metadata": {
        "id": "Ex38JX3EuBtX"
      },
      "execution_count": null,
      "outputs": []
    },
    {
      "cell_type": "markdown",
      "source": [
        "#Punto 3. Linear Regresion\n"
      ],
      "metadata": {
        "id": "YR7CQEvD0hr_"
      }
    },
    {
      "cell_type": "markdown",
      "source": [
        "## **Selección del data-set**\n",
        "\n",
        "Se selecciona el dataset: [autompg-dataset](https://www.kaggle.com/datasets/uciml/autompg-dataset)\n",
        "\n",
        "csv: [auto-mpg](https://raw.githubusercontent.com/danmcode/20223_HMCIA_DMUELAS_examenfina/main/auto-mpg.csv)\n"
      ],
      "metadata": {
        "id": "bkYXZVbyZxum"
      }
    },
    {
      "cell_type": "markdown",
      "source": [
        "### **Explicación del Dataset**\n",
        "\n",
        "El dataset incluye las especificaciones técnicas de algunos vehículos.  Los datos se refieren al consumo de combustible del ciclo urbano en millas por galón.\n",
        "\n",
        "`Cylinders`: Es el número de cilindros que tiene el vehículo. \n",
        "\n",
        "`Displacement`: Es una medida de longitud pero no se ha especificado muy bien cuales son sus unidades metricas. \n",
        "\n",
        "`Horse_power`: Son los caballos de potencia del vehículo. \n",
        "\n",
        "`Weight`: Es el peso del Vehículo. \n",
        "\n",
        "`Acceleration`: Es la aceleración del vehículo. \n",
        "\n",
        "`Model_year`: El año de fabricación del vehículo. \n",
        "\n",
        "`Origin`: Origen del vehículo. \n",
        "\n",
        "\n",
        "\n",
        "\n"
      ],
      "metadata": {
        "id": "KgOytDD9bNpK"
      }
    },
    {
      "cell_type": "markdown",
      "source": [
        "### **¿Que se va ha realizar con el dataset:**\n",
        "\n",
        "Teniendo en cuenta que `Mpg`: Miles Per Gallon, es nuestra variable dependiente, ya que el objetivo es **predecir el consumo de combustible de un vehiculo de acuerdo a determinadas caracteristicas** \n",
        "\n",
        "**Nota:** Se debe tener en cuenta que los valores indican el consumo es decir, que con un galon se recorren menos millas.\n",
        "\n"
      ],
      "metadata": {
        "id": "mcEbq9_6gScM"
      }
    },
    {
      "cell_type": "markdown",
      "source": [
        "##Solución"
      ],
      "metadata": {
        "id": "CyeM7LCOxiDy"
      }
    },
    {
      "cell_type": "markdown",
      "source": [
        "### **Importar librerias**"
      ],
      "metadata": {
        "id": "9dzEIngOiRxU"
      }
    },
    {
      "cell_type": "code",
      "source": [
        "import numpy as np\n",
        "import matplotlib.pyplot as plt\n",
        "import pandas as pd"
      ],
      "metadata": {
        "id": "QOnSxyHZxeMM"
      },
      "execution_count": 2,
      "outputs": []
    },
    {
      "cell_type": "code",
      "source": [
        "#variables to store mean and standard deviation for each feature\n",
        "mu = []\n",
        "std = []"
      ],
      "metadata": {
        "id": "B2CNDZwkSe08"
      },
      "execution_count": 3,
      "outputs": []
    },
    {
      "cell_type": "markdown",
      "source": [
        "### Función para realizar la carga de los conjuntos de datos.\n",
        "\n",
        "La siguiente función carga los datos, los normaliza y luego traza los puntos de los datos.\n",
        "\n",
        "Se normaliza por que cuando hay numeros muy grandes pueden generar sesgos en los modelos de aprendizaje automatico.\n",
        "\n",
        "Finalmente se normaliza para que todas se encuentren en el mismo rango. \n",
        "\n"
      ],
      "metadata": {
        "id": "Yx5hV2CSwubt"
      }
    },
    {
      "cell_type": "markdown",
      "source": [
        "x ->  Columnas que se usan para predecir\\\n",
        "y -> Columna objetivo"
      ],
      "metadata": {
        "id": "ajudl49d-7FA"
      }
    },
    {
      "cell_type": "code",
      "source": [
        "def load_data(filename):\n",
        "  df = pd.read_csv(filename, sep=\",\")\n",
        "  df = df.drop(['car name'], axis=1)\n",
        "  df = df.drop(['origin'], axis=1)\n",
        "  # print(df)\n",
        "\n",
        "  data = np.array(df, dtype=float)\n",
        "\n",
        "  # print(\"*==========*\")\n",
        "  # print(\"x: \", data[:,:1],)\n",
        "  # print( \"y: \", data[::,1:8])\n",
        "  \n",
        "  plot_data(data[:, 1:8], data[:,:1])\n",
        "\t# normalize(data)\n",
        "  return data[:,:1], data[:, 1:8]"
      ],
      "metadata": {
        "id": "pkxiHaDvt4gp"
      },
      "execution_count": 126,
      "outputs": []
    },
    {
      "cell_type": "markdown",
      "source": [
        "### Normalizar los datos\n",
        "\n",
        "La siguiente función normaliza todos los elementos de daros en una columna especifca utilizando la media y la desviación estandar de esos elementos.\n",
        "\n",
        "La formula que se utiliza es **Normalización de caracteristicas**\n",
        "\n",
        "$$z = (x - μ) / σ $$"
      ],
      "metadata": {
        "id": "WwliqReqxOqa"
      }
    },
    {
      "cell_type": "code",
      "source": [
        "def normalize(data):\n",
        "\tfor i in range(0,data.shape[1]-1):\n",
        "\t\tdata[:,i] = ((data[:,i] - np.mean(data[:,i]))/np.std(data[:, i]))"
      ],
      "metadata": {
        "id": "rzzjbrPUxPWd"
      },
      "execution_count": 127,
      "outputs": []
    },
    {
      "cell_type": "markdown",
      "source": [
        "### Trazar los datos"
      ],
      "metadata": {
        "id": "uXgPpJq5x3pY"
      }
    },
    {
      "cell_type": "code",
      "source": [
        "def plot_data(x, y):\n",
        "\tplt.xlabel('Displacement')\n",
        "\tplt.ylabel('Miles Per Gallon')\n",
        "\tplt.plot(x[:,1], y, 'bo')\n",
        "\tplt.show()"
      ],
      "metadata": {
        "id": "RuzOmsjjx4TK"
      },
      "execution_count": 151,
      "outputs": []
    },
    {
      "cell_type": "markdown",
      "source": [],
      "metadata": {
        "id": "bGHsAs7RP-f7"
      }
    },
    {
      "cell_type": "code",
      "source": [
        "def h(x,theta):\n",
        "\treturn np.matmul(x, theta)"
      ],
      "metadata": {
        "id": "i5YrQOc44-4_"
      },
      "execution_count": 129,
      "outputs": []
    },
    {
      "cell_type": "markdown",
      "source": [],
      "metadata": {
        "id": "Ikw1EQHIP-1P"
      }
    },
    {
      "cell_type": "code",
      "source": [
        "def cost_function(x, y, theta):\n",
        "\treturn ((h(x, theta)-y).T@(h(x, theta)-y))/(2*y.shape[0])"
      ],
      "metadata": {
        "id": "Q-q5oLDQ5Enp"
      },
      "execution_count": 130,
      "outputs": []
    },
    {
      "cell_type": "markdown",
      "source": [],
      "metadata": {
        "id": "LiOCqFIJQAO5"
      }
    },
    {
      "cell_type": "code",
      "source": [
        "\n",
        "def gradient_descent(x, y, theta, learning_rate=0.1, num_epochs=10):\n",
        "\tm = x.shape[0]\n",
        "\tJ_all = []\n",
        "\t\n",
        "\tfor _ in range(num_epochs):\n",
        "\t\th_x = h(x, theta)\n",
        "\t\tcost_ = (1/m)*(x.T@(h_x - y))\n",
        "\t\ttheta = theta - (learning_rate)*cost_\n",
        "\t\tJ_all.append(cost_function(x, y, theta))\n",
        "\n",
        "\treturn theta, J_all "
      ],
      "metadata": {
        "id": "oTQPYzX15NR8"
      },
      "execution_count": 137,
      "outputs": []
    },
    {
      "cell_type": "markdown",
      "source": [],
      "metadata": {
        "id": "ZOL4hQ1DQBTH"
      }
    },
    {
      "cell_type": "code",
      "source": [
        "def plot_cost(J_all, num_epochs):\n",
        "\tplt.xlabel('Epochs')\n",
        "\tplt.ylabel('Cost')\n",
        "\tplt.plot(num_epochs, J_all, 'm', linewidth = \"5\")\n",
        "\tplt.show()"
      ],
      "metadata": {
        "id": "SkdE9d2d5_X-"
      },
      "execution_count": 138,
      "outputs": []
    },
    {
      "cell_type": "markdown",
      "source": [],
      "metadata": {
        "id": "9lSHUwd4QB5P"
      }
    },
    {
      "cell_type": "code",
      "source": [
        "def test(theta, x):\n",
        "\tx[0] = (x[0] - mu[0])/std[0]\n",
        "\tx[1] = (x[1] - mu[1])/std[1]\n",
        "\n",
        "\ty = theta[0] + theta[1]*x[0] + theta[2]*x[1]\n",
        "\tprint(\"Price of house: \", y)"
      ],
      "metadata": {
        "id": "Iv4VRiEG6Cmd"
      },
      "execution_count": 139,
      "outputs": []
    },
    {
      "cell_type": "markdown",
      "source": [],
      "metadata": {
        "id": "yvaSuVHfQCgN"
      }
    },
    {
      "cell_type": "code",
      "source": [
        "data_set = \"https://raw.githubusercontent.com/danmcode/20223_HMCIA_DMUELAS_examenfina/main/auto-mpg.csv\"\n",
        "x,y = load_data(data_set)\n",
        "\n",
        "# y = np.reshape(y, (46,1))\n",
        "# x = np.hstack((np.ones((x.shape[0],1)), x))\n",
        "# theta = np.zeros((x.shape[1], 1))\n",
        "# learning_rate = 0.1\n",
        "# num_epochs = 50\n",
        "# theta, J_all = gradient_descent(x, y, theta, learning_rate, num_epochs)\n",
        "# J = cost_function(x, y, theta)\n",
        "\n",
        "# print(\"Cost: \", J)\n",
        "# print(\"Parameters: \", theta)\n",
        "\n",
        "# #for testing and plotting cost \n",
        "# n_epochs = []\n",
        "# jplot = []\n",
        "# count = 0\n",
        "# for i in J_all:\n",
        "# \tjplot.append(i[0][0])\n",
        "# \tn_epochs.append(count)\n",
        "# \tcount += 1\n",
        "# jplot = np.array(jplot)\n",
        "# n_epochs = np.array(n_epochs)\n",
        "# plot_cost(jplot, n_epochs)\n",
        "\n",
        "# test(theta, [1600, 3])"
      ],
      "metadata": {
        "colab": {
          "base_uri": "https://localhost:8080/",
          "height": 279
        },
        "id": "-2Llxwa36ERw",
        "outputId": "53771369-a4d6-498e-fa23-e3fb4aac577f"
      },
      "execution_count": 153,
      "outputs": [
        {
          "output_type": "display_data",
          "data": {
            "text/plain": [
              "<Figure size 432x288 with 1 Axes>"
            ],
            "image/png": "[encoded data removed]"
          },
          "metadata": {
            "needs_background": "light"
          }
        }
      ]
    },
    {
      "cell_type": "markdown",
      "source": [
        "#Punto 4. Aplicación de diferenciaciones en redes neuronales."
      ],
      "metadata": {
        "id": "divFPBWkuICY"
      }
    },
    {
      "cell_type": "code",
      "source": [],
      "metadata": {
        "id": "aLmCVta9uaZp"
      },
      "execution_count": null,
      "outputs": []
    }
  ]
}