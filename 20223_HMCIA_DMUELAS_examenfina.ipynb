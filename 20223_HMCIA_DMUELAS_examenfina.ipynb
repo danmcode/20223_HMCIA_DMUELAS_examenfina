{
  "nbformat": 4,
  "nbformat_minor": 0,
  "metadata": {
    "colab": {
      "provenance": [],
      "collapsed_sections": [],
      "authorship_tag": "ABX9TyOWEGq0h9aAyMR2t3Ds4cQI",
      "include_colab_link": true
    },
    "kernelspec": {
      "name": "python3",
      "display_name": "Python 3"
    },
    "language_info": {
      "name": "python"
    }
  },
  "cells": [
    {
      "cell_type": "markdown",
      "metadata": {
        "id": "view-in-github",
        "colab_type": "text"
      },
      "source": [
        "<a href=\"https://colab.research.google.com/github/danmcode/20223_HMCIA_DMUELAS_examenfina/blob/main/20223_HMCIA_DMUELAS_examenfina.ipynb\" target=\"_parent\"><img src=\"https://colab.research.google.com/assets/colab-badge.svg\" alt=\"Open In Colab\"/></a>"
      ]
    },
    {
      "cell_type": "markdown",
      "source": [
        "# 1. Seleccionar dataset.\n",
        "\n",
        "Para cargar el conjunto de datos, el autor creó una pequeña pieza de código para obtener los datos en conjuntos de entrenamiento y prueba en Pandas DataFrames.\n",
        "\n",
        "Se seleccionar el dataset: [Telco Customer Churn](https://www.kaggle.com/datasets/blastchar/telco-customer-churn)\n",
        "\n",
        "\n",
        "csv:\n"
      ],
      "metadata": {
        "id": "w-3Kb7hfBiYn"
      }
    },
    {
      "cell_type": "markdown",
      "source": [
        "#**2. Explicación del dataset.**\n",
        "\n",
        "Los datos de abandono de clientes de Telco contienen información sobre una empresa de telecomunicaciones ficticia que proporcionó servicios de telefonía residencial e Internet a 7043 clientes en California en el tercer trimestre. Indica qué clientes se han ido, se han quedado o se han registrado en su servicio. Se incluyen múltiples datos demográficos importantes para cada cliente, así como un puntaje de satisfacción, un puntaje de abandono y un valor de por vida del cliente (CLTV) independientemente:\n",
        "\n",
        "`customerID`: ID unico de cada cliente\n",
        "\n",
        "`gender`: El genero del cliente: (Male, Female)\n",
        "\n",
        "`SeniorCitizen`: Indica si el cliente tiene una edad igual o mayor de 65 años\n",
        "(1 o 0)\n",
        "\n",
        "`Partner`: Indica si el cliente es socio o no (Yes o No) \n",
        "\n",
        "`Dependents`: Indica si el cliente tiene dependientes o no ()\n",
        "\n",
        "`tenure`: Numero de meses en los cuales el usuario ha estado en la compañía.\n",
        "\n",
        "`PhoneService`: Indica si el cliente \n",
        "\n",
        "`MultipleLines`:\n",
        "\n",
        "`InternetService`:\n",
        "\n",
        "`OnlineSecurity`:\n",
        "\n",
        "`OnlineBackup`:\n",
        "\n",
        "`DeviceProtection`:\n",
        "\n",
        "`TechSupport`:\n",
        "\n",
        "`StreamingTV`:\n",
        "\n",
        "`StreamingMovies`:\n",
        "\n",
        "`Contract`:\n",
        "\n",
        "`PaperlessBilling`:\n",
        "\n",
        "`PaymentMethod`:\n",
        "\n",
        "`MonthlyCharges`:\n",
        "\n",
        "`TotalCharges`:\n",
        "\n",
        "`Churn`:\n",
        "\n",
        "\n"
      ],
      "metadata": {
        "id": "cII6908OZ4Nd"
      }
    },
    {
      "cell_type": "markdown",
      "source": [],
      "metadata": {
        "id": "afhiNXe8akVX"
      }
    },
    {
      "cell_type": "markdown",
      "source": [
        "`x_train`: Es el grupo de entrenamiento del resto (80%) \n",
        "\n",
        "`x_test`: Es el grupo de prueba del resto (20%).\n",
        "\n",
        "`y_train`: Es el grupo de entrenamiento de la columna objetivo.\n",
        "\n",
        "`y_test`:  Es el grupo de prueba de la columna objetivo.\n",
        "\n",
        "**columna objetivio:** `target`"
      ],
      "metadata": {
        "id": "YpaNVaxCZr53"
      }
    },
    {
      "cell_type": "code",
      "source": [
        "import pandas as pd\n",
        "import numpy as np\n",
        "from sklearn.model_selection import train_test_split\n",
        "from sklearn.datasets import load_breast_cancer\n",
        "\n",
        "# Function to convert \n",
        "def sklearn_to_df(data_loader):\n",
        "    X_data = data_loader.data\n",
        "    X_columns = data_loader.feature_names\n",
        "\n",
        "    x = pd.DataFrame(X_data, columns=X_columns)\n",
        "    y_data = data_loader.target\n",
        "    y = pd.Series(y_data, name='target')\n",
        "    \n",
        "    return x, y\n",
        "\n",
        "x, y = sklearn_to_df(load_breast_cancer())\n",
        "\n",
        "#Split arrays or matrices into random train and test subsets.\n",
        "x_train, x_test, y_train, y_test = train_test_split(\n",
        "  x,\n",
        "  y, \n",
        "  test_size=0.2, # 20% of data for test\n",
        "  random_state=42\n",
        ")"
      ],
      "metadata": {
        "id": "bz4bFcjrYj_h"
      },
      "execution_count": null,
      "outputs": []
    },
    {
      "cell_type": "markdown",
      "source": [
        "#2.  import all of the data, libraries, and models that you need for the **training part**.\n",
        "\n",
        "The model y loader files are in this \n",
        "[GitHub Repository](https://github.com/casperbh96/Logistic-Regression-From-Scratch) that later we'll import"
      ],
      "metadata": {
        "id": "sPw1sDl4C27_"
      }
    },
    {
      "cell_type": "code",
      "source": [
        "from sklearn.metrics import accuracy_score\n",
        "from sklearn.linear_model import LogisticRegression\n",
        "#/content/logistic_regression /content/model.py\n",
        "from model import LogisticRegression as CustomLogisticRegression\n",
        "from loader import x_train, x_test, y_train, y_test\n",
        "\n",
        "lr = CustomLogisticRegression()\n",
        "lr.fit(x_train, y_train, epochs=150)"
      ],
      "metadata": {
        "id": "w5QNzARWYoEJ"
      },
      "execution_count": null,
      "outputs": []
    },
    {
      "cell_type": "markdown",
      "source": [],
      "metadata": {
        "id": "n77yRQh1TiG_"
      }
    },
    {
      "cell_type": "code",
      "source": [
        "def fit(self, x, y, epochs):\n",
        "    x = self._transform_x(x)ñ\n",
        "    y = self._transform_y(y)\n",
        "\n",
        "    self.weights = np.zeros(x.shape[1])\n",
        "    self.bias = 0\n",
        "\n",
        "    for i in range(epochs):\n",
        "        x_dot_weights = np.matmul(self.weights, x.transpose()) + self.bias\n",
        "        pred = self._sigmoid(x_dot_weights)\n",
        "        loss = self.compute_loss(y, pred)\n",
        "        error_w, error_b = self.compute_gradients(x, y, pred)\n",
        "        self.update_model_parameters(error_w, error_b)\n",
        "\n",
        "        pred_to_class = [1 if p > 0.5 else 0 for p in pred]\n",
        "        self.train_accuracies.append(accuracy_score(y, pred_to_class))\n",
        "        self.losses.append(loss)"
      ],
      "metadata": {
        "id": "p8yf56vNliiu"
      },
      "execution_count": null,
      "outputs": []
    },
    {
      "cell_type": "code",
      "source": [
        "def _sigmoid(self, x):\n",
        "    return np.array([self._sigmoid_function(value) for value in x])\n",
        "\n",
        "def _sigmoid_function(self, x):\n",
        "    if x >= 0:\n",
        "        z = np.exp(-x)\n",
        "        return 1 / (1 + z)\n",
        "    else:\n",
        "        z = np.exp(x)\n",
        "        return z / (1 + z)"
      ],
      "metadata": {
        "id": "Ka_6tEFWl2Ej"
      },
      "execution_count": null,
      "outputs": []
    },
    {
      "cell_type": "code",
      "source": [
        "def compute_loss(self, y_true, y_pred):\n",
        "    # binary cross entropy\n",
        "    y_zero_loss = y_true * np.log(y_pred + 1e-9)\n",
        "    y_one_loss = (1-y_true) * np.log(1 - y_pred + 1e-9)\n",
        "    return -np.mean(y_zero_loss + y_one_loss)"
      ],
      "metadata": {
        "id": "z00823SQl4Ad"
      },
      "execution_count": null,
      "outputs": []
    },
    {
      "cell_type": "code",
      "source": [
        "def compute_gradients(self, x, y_true, y_pred):\n",
        "    # derivative of binary cross entropy\n",
        "    difference =  y_pred - y_true\n",
        "    gradient_b = np.mean(difference)\n",
        "    gradients_w = np.matmul(x.transpose(), difference)\n",
        "    gradients_w = np.array([np.mean(grad) for grad in gradients_w])\n",
        "\n",
        "    return gradients_w, gradient_b"
      ],
      "metadata": {
        "id": "IheIT1UYl5xV"
      },
      "execution_count": null,
      "outputs": []
    },
    {
      "cell_type": "code",
      "source": [
        "def update_model_parameters(self, error_w, error_b):\n",
        "    self.weights = self.weights - 0.1 * error_w\n",
        "    self.bias = self.bias - 0.1 * error_b"
      ],
      "metadata": {
        "id": "4wHFBb2Yl7Vi"
      },
      "execution_count": null,
      "outputs": []
    },
    {
      "cell_type": "code",
      "source": [
        "pred = lr.predict(x_test)\n",
        "accuracy = accuracy_score(y_test, pred)\n",
        "print(accuracy)"
      ],
      "metadata": {
        "colab": {
          "base_uri": "https://localhost:8080/"
        },
        "id": "sxCcuV8kl9r2",
        "outputId": "ae37ed3c-f392-4ad0-9408-b1432444d605"
      },
      "execution_count": null,
      "outputs": [
        {
          "output_type": "stream",
          "name": "stdout",
          "text": [
            "0.9298245614035088\n"
          ]
        }
      ]
    },
    {
      "cell_type": "code",
      "source": [
        "def predict(self, x):\n",
        "    x_dot_weights = np.matmul(x, self.weights.transpose()) + self.bias\n",
        "    probabilities = self._sigmoid(x_dot_weights)\n",
        "    return [1 if p > 0.5 else 0 for p in probabilities]"
      ],
      "metadata": {
        "id": "sxDrJciWl_cw"
      },
      "execution_count": null,
      "outputs": []
    },
    {
      "cell_type": "code",
      "source": [
        "model = LogisticRegression(solver='newton-cg', max_iter=150)\n",
        "model.fit(x_train, y_train)\n",
        "pred2 = model.predict(x_test)\n",
        "accuracy2 = accuracy_score(y_test, pred2)\n",
        "print(accuracy2)"
      ],
      "metadata": {
        "colab": {
          "base_uri": "https://localhost:8080/"
        },
        "id": "_cZTZC8qmQiB",
        "outputId": "65b37195-153b-4676-b57d-b07f7158a707"
      },
      "execution_count": null,
      "outputs": [
        {
          "output_type": "stream",
          "name": "stdout",
          "text": [
            "0.956140350877193\n"
          ]
        }
      ]
    }
  ]
}